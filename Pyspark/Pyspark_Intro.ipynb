{
  "nbformat": 4,
  "nbformat_minor": 0,
  "metadata": {
    "colab": {
      "provenance": []
    },
    "kernelspec": {
      "name": "python3",
      "display_name": "Python 3"
    },
    "language_info": {
      "name": "python"
    }
  },
  "cells": [
    {
      "cell_type": "code",
      "execution_count": 1,
      "metadata": {
        "colab": {
          "base_uri": "https://localhost:8080/"
        },
        "id": "Xj1htHjxAV0v",
        "outputId": "0f726764-64a4-4030-f967-9772ef15b857"
      },
      "outputs": [
        {
          "output_type": "stream",
          "name": "stdout",
          "text": [
            "Requirement already satisfied: pyspark in /usr/local/lib/python3.10/dist-packages (3.5.1)\n",
            "Requirement already satisfied: py4j==0.10.9.7 in /usr/local/lib/python3.10/dist-packages (from pyspark) (0.10.9.7)\n"
          ]
        }
      ],
      "source": [
        "!pip install pyspark"
      ]
    },
    {
      "cell_type": "code",
      "source": [
        "import pandas as pd\n",
        "pd_data = pd.read_csv('sample_data/california_housing_train.csv')\n",
        "pd_data"
      ],
      "metadata": {
        "id": "O3iDnwDyAcPQ",
        "colab": {
          "base_uri": "https://localhost:8080/",
          "height": 423
        },
        "outputId": "e39ea020-59fa-496e-d6fa-faeb56c1226a"
      },
      "execution_count": 2,
      "outputs": [
        {
          "output_type": "execute_result",
          "data": {
            "text/plain": [
              "       longitude  latitude  housing_median_age  total_rooms  total_bedrooms  \\\n",
              "0        -114.31     34.19                15.0       5612.0          1283.0   \n",
              "1        -114.47     34.40                19.0       7650.0          1901.0   \n",
              "2        -114.56     33.69                17.0        720.0           174.0   \n",
              "3        -114.57     33.64                14.0       1501.0           337.0   \n",
              "4        -114.57     33.57                20.0       1454.0           326.0   \n",
              "...          ...       ...                 ...          ...             ...   \n",
              "16995    -124.26     40.58                52.0       2217.0           394.0   \n",
              "16996    -124.27     40.69                36.0       2349.0           528.0   \n",
              "16997    -124.30     41.84                17.0       2677.0           531.0   \n",
              "16998    -124.30     41.80                19.0       2672.0           552.0   \n",
              "16999    -124.35     40.54                52.0       1820.0           300.0   \n",
              "\n",
              "       population  households  median_income  median_house_value  \n",
              "0          1015.0       472.0         1.4936             66900.0  \n",
              "1          1129.0       463.0         1.8200             80100.0  \n",
              "2           333.0       117.0         1.6509             85700.0  \n",
              "3           515.0       226.0         3.1917             73400.0  \n",
              "4           624.0       262.0         1.9250             65500.0  \n",
              "...           ...         ...            ...                 ...  \n",
              "16995       907.0       369.0         2.3571            111400.0  \n",
              "16996      1194.0       465.0         2.5179             79000.0  \n",
              "16997      1244.0       456.0         3.0313            103600.0  \n",
              "16998      1298.0       478.0         1.9797             85800.0  \n",
              "16999       806.0       270.0         3.0147             94600.0  \n",
              "\n",
              "[17000 rows x 9 columns]"
            ],
            "text/html": [
              "\n",
              "  <div id=\"df-894e5eb5-1218-449a-8bc8-87b0c27c2895\" class=\"colab-df-container\">\n",
              "    <div>\n",
              "<style scoped>\n",
              "    .dataframe tbody tr th:only-of-type {\n",
              "        vertical-align: middle;\n",
              "    }\n",
              "\n",
              "    .dataframe tbody tr th {\n",
              "        vertical-align: top;\n",
              "    }\n",
              "\n",
              "    .dataframe thead th {\n",
              "        text-align: right;\n",
              "    }\n",
              "</style>\n",
              "<table border=\"1\" class=\"dataframe\">\n",
              "  <thead>\n",
              "    <tr style=\"text-align: right;\">\n",
              "      <th></th>\n",
              "      <th>longitude</th>\n",
              "      <th>latitude</th>\n",
              "      <th>housing_median_age</th>\n",
              "      <th>total_rooms</th>\n",
              "      <th>total_bedrooms</th>\n",
              "      <th>population</th>\n",
              "      <th>households</th>\n",
              "      <th>median_income</th>\n",
              "      <th>median_house_value</th>\n",
              "    </tr>\n",
              "  </thead>\n",
              "  <tbody>\n",
              "    <tr>\n",
              "      <th>0</th>\n",
              "      <td>-114.31</td>\n",
              "      <td>34.19</td>\n",
              "      <td>15.0</td>\n",
              "      <td>5612.0</td>\n",
              "      <td>1283.0</td>\n",
              "      <td>1015.0</td>\n",
              "      <td>472.0</td>\n",
              "      <td>1.4936</td>\n",
              "      <td>66900.0</td>\n",
              "    </tr>\n",
              "    <tr>\n",
              "      <th>1</th>\n",
              "      <td>-114.47</td>\n",
              "      <td>34.40</td>\n",
              "      <td>19.0</td>\n",
              "      <td>7650.0</td>\n",
              "      <td>1901.0</td>\n",
              "      <td>1129.0</td>\n",
              "      <td>463.0</td>\n",
              "      <td>1.8200</td>\n",
              "      <td>80100.0</td>\n",
              "    </tr>\n",
              "    <tr>\n",
              "      <th>2</th>\n",
              "      <td>-114.56</td>\n",
              "      <td>33.69</td>\n",
              "      <td>17.0</td>\n",
              "      <td>720.0</td>\n",
              "      <td>174.0</td>\n",
              "      <td>333.0</td>\n",
              "      <td>117.0</td>\n",
              "      <td>1.6509</td>\n",
              "      <td>85700.0</td>\n",
              "    </tr>\n",
              "    <tr>\n",
              "      <th>3</th>\n",
              "      <td>-114.57</td>\n",
              "      <td>33.64</td>\n",
              "      <td>14.0</td>\n",
              "      <td>1501.0</td>\n",
              "      <td>337.0</td>\n",
              "      <td>515.0</td>\n",
              "      <td>226.0</td>\n",
              "      <td>3.1917</td>\n",
              "      <td>73400.0</td>\n",
              "    </tr>\n",
              "    <tr>\n",
              "      <th>4</th>\n",
              "      <td>-114.57</td>\n",
              "      <td>33.57</td>\n",
              "      <td>20.0</td>\n",
              "      <td>1454.0</td>\n",
              "      <td>326.0</td>\n",
              "      <td>624.0</td>\n",
              "      <td>262.0</td>\n",
              "      <td>1.9250</td>\n",
              "      <td>65500.0</td>\n",
              "    </tr>\n",
              "    <tr>\n",
              "      <th>...</th>\n",
              "      <td>...</td>\n",
              "      <td>...</td>\n",
              "      <td>...</td>\n",
              "      <td>...</td>\n",
              "      <td>...</td>\n",
              "      <td>...</td>\n",
              "      <td>...</td>\n",
              "      <td>...</td>\n",
              "      <td>...</td>\n",
              "    </tr>\n",
              "    <tr>\n",
              "      <th>16995</th>\n",
              "      <td>-124.26</td>\n",
              "      <td>40.58</td>\n",
              "      <td>52.0</td>\n",
              "      <td>2217.0</td>\n",
              "      <td>394.0</td>\n",
              "      <td>907.0</td>\n",
              "      <td>369.0</td>\n",
              "      <td>2.3571</td>\n",
              "      <td>111400.0</td>\n",
              "    </tr>\n",
              "    <tr>\n",
              "      <th>16996</th>\n",
              "      <td>-124.27</td>\n",
              "      <td>40.69</td>\n",
              "      <td>36.0</td>\n",
              "      <td>2349.0</td>\n",
              "      <td>528.0</td>\n",
              "      <td>1194.0</td>\n",
              "      <td>465.0</td>\n",
              "      <td>2.5179</td>\n",
              "      <td>79000.0</td>\n",
              "    </tr>\n",
              "    <tr>\n",
              "      <th>16997</th>\n",
              "      <td>-124.30</td>\n",
              "      <td>41.84</td>\n",
              "      <td>17.0</td>\n",
              "      <td>2677.0</td>\n",
              "      <td>531.0</td>\n",
              "      <td>1244.0</td>\n",
              "      <td>456.0</td>\n",
              "      <td>3.0313</td>\n",
              "      <td>103600.0</td>\n",
              "    </tr>\n",
              "    <tr>\n",
              "      <th>16998</th>\n",
              "      <td>-124.30</td>\n",
              "      <td>41.80</td>\n",
              "      <td>19.0</td>\n",
              "      <td>2672.0</td>\n",
              "      <td>552.0</td>\n",
              "      <td>1298.0</td>\n",
              "      <td>478.0</td>\n",
              "      <td>1.9797</td>\n",
              "      <td>85800.0</td>\n",
              "    </tr>\n",
              "    <tr>\n",
              "      <th>16999</th>\n",
              "      <td>-124.35</td>\n",
              "      <td>40.54</td>\n",
              "      <td>52.0</td>\n",
              "      <td>1820.0</td>\n",
              "      <td>300.0</td>\n",
              "      <td>806.0</td>\n",
              "      <td>270.0</td>\n",
              "      <td>3.0147</td>\n",
              "      <td>94600.0</td>\n",
              "    </tr>\n",
              "  </tbody>\n",
              "</table>\n",
              "<p>17000 rows × 9 columns</p>\n",
              "</div>\n",
              "    <div class=\"colab-df-buttons\">\n",
              "\n",
              "  <div class=\"colab-df-container\">\n",
              "    <button class=\"colab-df-convert\" onclick=\"convertToInteractive('df-894e5eb5-1218-449a-8bc8-87b0c27c2895')\"\n",
              "            title=\"Convert this dataframe to an interactive table.\"\n",
              "            style=\"display:none;\">\n",
              "\n",
              "  <svg xmlns=\"http://www.w3.org/2000/svg\" height=\"24px\" viewBox=\"0 -960 960 960\">\n",
              "    <path d=\"M120-120v-720h720v720H120Zm60-500h600v-160H180v160Zm220 220h160v-160H400v160Zm0 220h160v-160H400v160ZM180-400h160v-160H180v160Zm440 0h160v-160H620v160ZM180-180h160v-160H180v160Zm440 0h160v-160H620v160Z\"/>\n",
              "  </svg>\n",
              "    </button>\n",
              "\n",
              "  <style>\n",
              "    .colab-df-container {\n",
              "      display:flex;\n",
              "      gap: 12px;\n",
              "    }\n",
              "\n",
              "    .colab-df-convert {\n",
              "      background-color: #E8F0FE;\n",
              "      border: none;\n",
              "      border-radius: 50%;\n",
              "      cursor: pointer;\n",
              "      display: none;\n",
              "      fill: #1967D2;\n",
              "      height: 32px;\n",
              "      padding: 0 0 0 0;\n",
              "      width: 32px;\n",
              "    }\n",
              "\n",
              "    .colab-df-convert:hover {\n",
              "      background-color: #E2EBFA;\n",
              "      box-shadow: 0px 1px 2px rgba(60, 64, 67, 0.3), 0px 1px 3px 1px rgba(60, 64, 67, 0.15);\n",
              "      fill: #174EA6;\n",
              "    }\n",
              "\n",
              "    .colab-df-buttons div {\n",
              "      margin-bottom: 4px;\n",
              "    }\n",
              "\n",
              "    [theme=dark] .colab-df-convert {\n",
              "      background-color: #3B4455;\n",
              "      fill: #D2E3FC;\n",
              "    }\n",
              "\n",
              "    [theme=dark] .colab-df-convert:hover {\n",
              "      background-color: #434B5C;\n",
              "      box-shadow: 0px 1px 3px 1px rgba(0, 0, 0, 0.15);\n",
              "      filter: drop-shadow(0px 1px 2px rgba(0, 0, 0, 0.3));\n",
              "      fill: #FFFFFF;\n",
              "    }\n",
              "  </style>\n",
              "\n",
              "    <script>\n",
              "      const buttonEl =\n",
              "        document.querySelector('#df-894e5eb5-1218-449a-8bc8-87b0c27c2895 button.colab-df-convert');\n",
              "      buttonEl.style.display =\n",
              "        google.colab.kernel.accessAllowed ? 'block' : 'none';\n",
              "\n",
              "      async function convertToInteractive(key) {\n",
              "        const element = document.querySelector('#df-894e5eb5-1218-449a-8bc8-87b0c27c2895');\n",
              "        const dataTable =\n",
              "          await google.colab.kernel.invokeFunction('convertToInteractive',\n",
              "                                                    [key], {});\n",
              "        if (!dataTable) return;\n",
              "\n",
              "        const docLinkHtml = 'Like what you see? Visit the ' +\n",
              "          '<a target=\"_blank\" href=https://colab.research.google.com/notebooks/data_table.ipynb>data table notebook</a>'\n",
              "          + ' to learn more about interactive tables.';\n",
              "        element.innerHTML = '';\n",
              "        dataTable['output_type'] = 'display_data';\n",
              "        await google.colab.output.renderOutput(dataTable, element);\n",
              "        const docLink = document.createElement('div');\n",
              "        docLink.innerHTML = docLinkHtml;\n",
              "        element.appendChild(docLink);\n",
              "      }\n",
              "    </script>\n",
              "  </div>\n",
              "\n",
              "\n",
              "<div id=\"df-2ee3a2d7-d353-4d51-90f1-428f6e239a27\">\n",
              "  <button class=\"colab-df-quickchart\" onclick=\"quickchart('df-2ee3a2d7-d353-4d51-90f1-428f6e239a27')\"\n",
              "            title=\"Suggest charts\"\n",
              "            style=\"display:none;\">\n",
              "\n",
              "<svg xmlns=\"http://www.w3.org/2000/svg\" height=\"24px\"viewBox=\"0 0 24 24\"\n",
              "     width=\"24px\">\n",
              "    <g>\n",
              "        <path d=\"M19 3H5c-1.1 0-2 .9-2 2v14c0 1.1.9 2 2 2h14c1.1 0 2-.9 2-2V5c0-1.1-.9-2-2-2zM9 17H7v-7h2v7zm4 0h-2V7h2v10zm4 0h-2v-4h2v4z\"/>\n",
              "    </g>\n",
              "</svg>\n",
              "  </button>\n",
              "\n",
              "<style>\n",
              "  .colab-df-quickchart {\n",
              "      --bg-color: #E8F0FE;\n",
              "      --fill-color: #1967D2;\n",
              "      --hover-bg-color: #E2EBFA;\n",
              "      --hover-fill-color: #174EA6;\n",
              "      --disabled-fill-color: #AAA;\n",
              "      --disabled-bg-color: #DDD;\n",
              "  }\n",
              "\n",
              "  [theme=dark] .colab-df-quickchart {\n",
              "      --bg-color: #3B4455;\n",
              "      --fill-color: #D2E3FC;\n",
              "      --hover-bg-color: #434B5C;\n",
              "      --hover-fill-color: #FFFFFF;\n",
              "      --disabled-bg-color: #3B4455;\n",
              "      --disabled-fill-color: #666;\n",
              "  }\n",
              "\n",
              "  .colab-df-quickchart {\n",
              "    background-color: var(--bg-color);\n",
              "    border: none;\n",
              "    border-radius: 50%;\n",
              "    cursor: pointer;\n",
              "    display: none;\n",
              "    fill: var(--fill-color);\n",
              "    height: 32px;\n",
              "    padding: 0;\n",
              "    width: 32px;\n",
              "  }\n",
              "\n",
              "  .colab-df-quickchart:hover {\n",
              "    background-color: var(--hover-bg-color);\n",
              "    box-shadow: 0 1px 2px rgba(60, 64, 67, 0.3), 0 1px 3px 1px rgba(60, 64, 67, 0.15);\n",
              "    fill: var(--button-hover-fill-color);\n",
              "  }\n",
              "\n",
              "  .colab-df-quickchart-complete:disabled,\n",
              "  .colab-df-quickchart-complete:disabled:hover {\n",
              "    background-color: var(--disabled-bg-color);\n",
              "    fill: var(--disabled-fill-color);\n",
              "    box-shadow: none;\n",
              "  }\n",
              "\n",
              "  .colab-df-spinner {\n",
              "    border: 2px solid var(--fill-color);\n",
              "    border-color: transparent;\n",
              "    border-bottom-color: var(--fill-color);\n",
              "    animation:\n",
              "      spin 1s steps(1) infinite;\n",
              "  }\n",
              "\n",
              "  @keyframes spin {\n",
              "    0% {\n",
              "      border-color: transparent;\n",
              "      border-bottom-color: var(--fill-color);\n",
              "      border-left-color: var(--fill-color);\n",
              "    }\n",
              "    20% {\n",
              "      border-color: transparent;\n",
              "      border-left-color: var(--fill-color);\n",
              "      border-top-color: var(--fill-color);\n",
              "    }\n",
              "    30% {\n",
              "      border-color: transparent;\n",
              "      border-left-color: var(--fill-color);\n",
              "      border-top-color: var(--fill-color);\n",
              "      border-right-color: var(--fill-color);\n",
              "    }\n",
              "    40% {\n",
              "      border-color: transparent;\n",
              "      border-right-color: var(--fill-color);\n",
              "      border-top-color: var(--fill-color);\n",
              "    }\n",
              "    60% {\n",
              "      border-color: transparent;\n",
              "      border-right-color: var(--fill-color);\n",
              "    }\n",
              "    80% {\n",
              "      border-color: transparent;\n",
              "      border-right-color: var(--fill-color);\n",
              "      border-bottom-color: var(--fill-color);\n",
              "    }\n",
              "    90% {\n",
              "      border-color: transparent;\n",
              "      border-bottom-color: var(--fill-color);\n",
              "    }\n",
              "  }\n",
              "</style>\n",
              "\n",
              "  <script>\n",
              "    async function quickchart(key) {\n",
              "      const quickchartButtonEl =\n",
              "        document.querySelector('#' + key + ' button');\n",
              "      quickchartButtonEl.disabled = true;  // To prevent multiple clicks.\n",
              "      quickchartButtonEl.classList.add('colab-df-spinner');\n",
              "      try {\n",
              "        const charts = await google.colab.kernel.invokeFunction(\n",
              "            'suggestCharts', [key], {});\n",
              "      } catch (error) {\n",
              "        console.error('Error during call to suggestCharts:', error);\n",
              "      }\n",
              "      quickchartButtonEl.classList.remove('colab-df-spinner');\n",
              "      quickchartButtonEl.classList.add('colab-df-quickchart-complete');\n",
              "    }\n",
              "    (() => {\n",
              "      let quickchartButtonEl =\n",
              "        document.querySelector('#df-2ee3a2d7-d353-4d51-90f1-428f6e239a27 button');\n",
              "      quickchartButtonEl.style.display =\n",
              "        google.colab.kernel.accessAllowed ? 'block' : 'none';\n",
              "    })();\n",
              "  </script>\n",
              "</div>\n",
              "\n",
              "  <div id=\"id_cc3f73ad-b69c-4fa9-9ebc-f417860eee60\">\n",
              "    <style>\n",
              "      .colab-df-generate {\n",
              "        background-color: #E8F0FE;\n",
              "        border: none;\n",
              "        border-radius: 50%;\n",
              "        cursor: pointer;\n",
              "        display: none;\n",
              "        fill: #1967D2;\n",
              "        height: 32px;\n",
              "        padding: 0 0 0 0;\n",
              "        width: 32px;\n",
              "      }\n",
              "\n",
              "      .colab-df-generate:hover {\n",
              "        background-color: #E2EBFA;\n",
              "        box-shadow: 0px 1px 2px rgba(60, 64, 67, 0.3), 0px 1px 3px 1px rgba(60, 64, 67, 0.15);\n",
              "        fill: #174EA6;\n",
              "      }\n",
              "\n",
              "      [theme=dark] .colab-df-generate {\n",
              "        background-color: #3B4455;\n",
              "        fill: #D2E3FC;\n",
              "      }\n",
              "\n",
              "      [theme=dark] .colab-df-generate:hover {\n",
              "        background-color: #434B5C;\n",
              "        box-shadow: 0px 1px 3px 1px rgba(0, 0, 0, 0.15);\n",
              "        filter: drop-shadow(0px 1px 2px rgba(0, 0, 0, 0.3));\n",
              "        fill: #FFFFFF;\n",
              "      }\n",
              "    </style>\n",
              "    <button class=\"colab-df-generate\" onclick=\"generateWithVariable('pd_data')\"\n",
              "            title=\"Generate code using this dataframe.\"\n",
              "            style=\"display:none;\">\n",
              "\n",
              "  <svg xmlns=\"http://www.w3.org/2000/svg\" height=\"24px\"viewBox=\"0 0 24 24\"\n",
              "       width=\"24px\">\n",
              "    <path d=\"M7,19H8.4L18.45,9,17,7.55,7,17.6ZM5,21V16.75L18.45,3.32a2,2,0,0,1,2.83,0l1.4,1.43a1.91,1.91,0,0,1,.58,1.4,1.91,1.91,0,0,1-.58,1.4L9.25,21ZM18.45,9,17,7.55Zm-12,3A5.31,5.31,0,0,0,4.9,8.1,5.31,5.31,0,0,0,1,6.5,5.31,5.31,0,0,0,4.9,4.9,5.31,5.31,0,0,0,6.5,1,5.31,5.31,0,0,0,8.1,4.9,5.31,5.31,0,0,0,12,6.5,5.46,5.46,0,0,0,6.5,12Z\"/>\n",
              "  </svg>\n",
              "    </button>\n",
              "    <script>\n",
              "      (() => {\n",
              "      const buttonEl =\n",
              "        document.querySelector('#id_cc3f73ad-b69c-4fa9-9ebc-f417860eee60 button.colab-df-generate');\n",
              "      buttonEl.style.display =\n",
              "        google.colab.kernel.accessAllowed ? 'block' : 'none';\n",
              "\n",
              "      buttonEl.onclick = () => {\n",
              "        google.colab.notebook.generateWithVariable('pd_data');\n",
              "      }\n",
              "      })();\n",
              "    </script>\n",
              "  </div>\n",
              "\n",
              "    </div>\n",
              "  </div>\n"
            ],
            "application/vnd.google.colaboratory.intrinsic+json": {
              "type": "dataframe",
              "variable_name": "pd_data",
              "summary": "{\n  \"name\": \"pd_data\",\n  \"rows\": 17000,\n  \"fields\": [\n    {\n      \"column\": \"longitude\",\n      \"properties\": {\n        \"dtype\": \"number\",\n        \"std\": 2.0051664084261778,\n        \"min\": -124.35,\n        \"max\": -114.31,\n        \"num_unique_values\": 827,\n        \"samples\": [\n          -117.56,\n          -123.32,\n          -118.26\n        ],\n        \"semantic_type\": \"\",\n        \"description\": \"\"\n      }\n    },\n    {\n      \"column\": \"latitude\",\n      \"properties\": {\n        \"dtype\": \"number\",\n        \"std\": 2.1373397946570836,\n        \"min\": 32.54,\n        \"max\": 41.95,\n        \"num_unique_values\": 840,\n        \"samples\": [\n          38.44,\n          40.79,\n          32.69\n        ],\n        \"semantic_type\": \"\",\n        \"description\": \"\"\n      }\n    },\n    {\n      \"column\": \"housing_median_age\",\n      \"properties\": {\n        \"dtype\": \"number\",\n        \"std\": 12.586936981660399,\n        \"min\": 1.0,\n        \"max\": 52.0,\n        \"num_unique_values\": 52,\n        \"samples\": [\n          23.0,\n          52.0,\n          47.0\n        ],\n        \"semantic_type\": \"\",\n        \"description\": \"\"\n      }\n    },\n    {\n      \"column\": \"total_rooms\",\n      \"properties\": {\n        \"dtype\": \"number\",\n        \"std\": 2179.947071452767,\n        \"min\": 2.0,\n        \"max\": 37937.0,\n        \"num_unique_values\": 5533,\n        \"samples\": [\n          3564.0,\n          6955.0,\n          5451.0\n        ],\n        \"semantic_type\": \"\",\n        \"description\": \"\"\n      }\n    },\n    {\n      \"column\": \"total_bedrooms\",\n      \"properties\": {\n        \"dtype\": \"number\",\n        \"std\": 421.4994515798646,\n        \"min\": 1.0,\n        \"max\": 6445.0,\n        \"num_unique_values\": 1848,\n        \"samples\": [\n          729.0,\n          719.0,\n          2075.0\n        ],\n        \"semantic_type\": \"\",\n        \"description\": \"\"\n      }\n    },\n    {\n      \"column\": \"population\",\n      \"properties\": {\n        \"dtype\": \"number\",\n        \"std\": 1147.8529591595266,\n        \"min\": 3.0,\n        \"max\": 35682.0,\n        \"num_unique_values\": 3683,\n        \"samples\": [\n          249.0,\n          1735.0,\n          235.0\n        ],\n        \"semantic_type\": \"\",\n        \"description\": \"\"\n      }\n    },\n    {\n      \"column\": \"households\",\n      \"properties\": {\n        \"dtype\": \"number\",\n        \"std\": 384.5208408559009,\n        \"min\": 1.0,\n        \"max\": 6082.0,\n        \"num_unique_values\": 1740,\n        \"samples\": [\n          390.0,\n          1089.0,\n          1351.0\n        ],\n        \"semantic_type\": \"\",\n        \"description\": \"\"\n      }\n    },\n    {\n      \"column\": \"median_income\",\n      \"properties\": {\n        \"dtype\": \"number\",\n        \"std\": 1.9081565183791036,\n        \"min\": 0.4999,\n        \"max\": 15.0001,\n        \"num_unique_values\": 11175,\n        \"samples\": [\n          7.2655,\n          5.6293,\n          4.2262\n        ],\n        \"semantic_type\": \"\",\n        \"description\": \"\"\n      }\n    },\n    {\n      \"column\": \"median_house_value\",\n      \"properties\": {\n        \"dtype\": \"number\",\n        \"std\": 115983.76438720885,\n        \"min\": 14999.0,\n        \"max\": 500001.0,\n        \"num_unique_values\": 3694,\n        \"samples\": [\n          162300.0,\n          346800.0,\n          116700.0\n        ],\n        \"semantic_type\": \"\",\n        \"description\": \"\"\n      }\n    }\n  ]\n}"
            }
          },
          "metadata": {},
          "execution_count": 2
        }
      ]
    },
    {
      "cell_type": "code",
      "source": [
        "import pyspark\n",
        "from pyspark.sql import SparkSession"
      ],
      "metadata": {
        "id": "JyWO9EhbBNxH"
      },
      "execution_count": 3,
      "outputs": []
    },
    {
      "cell_type": "code",
      "source": [
        "spark = SparkSession.builder.appName('Practise').getOrCreate()"
      ],
      "metadata": {
        "id": "Pc2leRsRDXCF"
      },
      "execution_count": 4,
      "outputs": []
    },
    {
      "cell_type": "code",
      "source": [
        "spark"
      ],
      "metadata": {
        "colab": {
          "base_uri": "https://localhost:8080/",
          "height": 219
        },
        "id": "IIJU1mQCDuAX",
        "outputId": "48292565-a171-49df-ebab-4437d83c9c3a"
      },
      "execution_count": 5,
      "outputs": [
        {
          "output_type": "execute_result",
          "data": {
            "text/plain": [
              "<pyspark.sql.session.SparkSession at 0x7fd7c83f06d0>"
            ],
            "text/html": [
              "\n",
              "            <div>\n",
              "                <p><b>SparkSession - in-memory</b></p>\n",
              "                \n",
              "        <div>\n",
              "            <p><b>SparkContext</b></p>\n",
              "\n",
              "            <p><a href=\"http://0baf1ba8c3e1:4040\">Spark UI</a></p>\n",
              "\n",
              "            <dl>\n",
              "              <dt>Version</dt>\n",
              "                <dd><code>v3.5.1</code></dd>\n",
              "              <dt>Master</dt>\n",
              "                <dd><code>local[*]</code></dd>\n",
              "              <dt>AppName</dt>\n",
              "                <dd><code>Practise</code></dd>\n",
              "            </dl>\n",
              "        </div>\n",
              "        \n",
              "            </div>\n",
              "        "
            ]
          },
          "metadata": {},
          "execution_count": 5
        }
      ]
    },
    {
      "cell_type": "code",
      "source": [
        "df_pyspark = spark.read.option('header' ,'true').csv('sample_data/california_housing_train.csv')"
      ],
      "metadata": {
        "id": "X7jQbg5yD16O"
      },
      "execution_count": 8,
      "outputs": []
    },
    {
      "cell_type": "code",
      "source": [
        "df_pyspark"
      ],
      "metadata": {
        "colab": {
          "base_uri": "https://localhost:8080/"
        },
        "id": "dSsqu1UBEBIS",
        "outputId": "751e0053-e450-4031-d514-4498351eeebe"
      },
      "execution_count": 9,
      "outputs": [
        {
          "output_type": "execute_result",
          "data": {
            "text/plain": [
              "DataFrame[longitude: string, latitude: string, housing_median_age: string, total_rooms: string, total_bedrooms: string, population: string, households: string, median_income: string, median_house_value: string]"
            ]
          },
          "metadata": {},
          "execution_count": 9
        }
      ]
    },
    {
      "cell_type": "code",
      "source": [
        "df_pyspark.show()"
      ],
      "metadata": {
        "colab": {
          "base_uri": "https://localhost:8080/"
        },
        "id": "cG4cuvzGEEZA",
        "outputId": "8205b149-8545-4e5b-e6ec-42f8d8f3ec07"
      },
      "execution_count": 10,
      "outputs": [
        {
          "output_type": "stream",
          "name": "stdout",
          "text": [
            "+-----------+---------+------------------+-----------+--------------+-----------+-----------+-------------+------------------+\n",
            "|  longitude| latitude|housing_median_age|total_rooms|total_bedrooms| population| households|median_income|median_house_value|\n",
            "+-----------+---------+------------------+-----------+--------------+-----------+-----------+-------------+------------------+\n",
            "|-114.310000|34.190000|         15.000000|5612.000000|   1283.000000|1015.000000| 472.000000|     1.493600|      66900.000000|\n",
            "|-114.470000|34.400000|         19.000000|7650.000000|   1901.000000|1129.000000| 463.000000|     1.820000|      80100.000000|\n",
            "|-114.560000|33.690000|         17.000000| 720.000000|    174.000000| 333.000000| 117.000000|     1.650900|      85700.000000|\n",
            "|-114.570000|33.640000|         14.000000|1501.000000|    337.000000| 515.000000| 226.000000|     3.191700|      73400.000000|\n",
            "|-114.570000|33.570000|         20.000000|1454.000000|    326.000000| 624.000000| 262.000000|     1.925000|      65500.000000|\n",
            "|-114.580000|33.630000|         29.000000|1387.000000|    236.000000| 671.000000| 239.000000|     3.343800|      74000.000000|\n",
            "|-114.580000|33.610000|         25.000000|2907.000000|    680.000000|1841.000000| 633.000000|     2.676800|      82400.000000|\n",
            "|-114.590000|34.830000|         41.000000| 812.000000|    168.000000| 375.000000| 158.000000|     1.708300|      48500.000000|\n",
            "|-114.590000|33.610000|         34.000000|4789.000000|   1175.000000|3134.000000|1056.000000|     2.178200|      58400.000000|\n",
            "|-114.600000|34.830000|         46.000000|1497.000000|    309.000000| 787.000000| 271.000000|     2.190800|      48100.000000|\n",
            "|-114.600000|33.620000|         16.000000|3741.000000|    801.000000|2434.000000| 824.000000|     2.679700|      86500.000000|\n",
            "|-114.600000|33.600000|         21.000000|1988.000000|    483.000000|1182.000000| 437.000000|     1.625000|      62000.000000|\n",
            "|-114.610000|34.840000|         48.000000|1291.000000|    248.000000| 580.000000| 211.000000|     2.157100|      48600.000000|\n",
            "|-114.610000|34.830000|         31.000000|2478.000000|    464.000000|1346.000000| 479.000000|     3.212000|      70400.000000|\n",
            "|-114.630000|32.760000|         15.000000|1448.000000|    378.000000| 949.000000| 300.000000|     0.858500|      45000.000000|\n",
            "|-114.650000|34.890000|         17.000000|2556.000000|    587.000000|1005.000000| 401.000000|     1.699100|      69100.000000|\n",
            "|-114.650000|33.600000|         28.000000|1678.000000|    322.000000| 666.000000| 256.000000|     2.965300|      94900.000000|\n",
            "|-114.650000|32.790000|         21.000000|  44.000000|     33.000000|  64.000000|  27.000000|     0.857100|      25000.000000|\n",
            "|-114.660000|32.740000|         17.000000|1388.000000|    386.000000| 775.000000| 320.000000|     1.204900|      44000.000000|\n",
            "|-114.670000|33.920000|         17.000000|  97.000000|     24.000000|  29.000000|  15.000000|     1.265600|      27500.000000|\n",
            "+-----------+---------+------------------+-----------+--------------+-----------+-----------+-------------+------------------+\n",
            "only showing top 20 rows\n",
            "\n"
          ]
        }
      ]
    },
    {
      "cell_type": "code",
      "source": [
        "type(df_pyspark)"
      ],
      "metadata": {
        "colab": {
          "base_uri": "https://localhost:8080/",
          "height": 186
        },
        "id": "NQbHwrUeEWif",
        "outputId": "ccc187ff-34e3-4b84-ee39-392c6a7bcb34"
      },
      "execution_count": 11,
      "outputs": [
        {
          "output_type": "execute_result",
          "data": {
            "text/plain": [
              "pyspark.sql.dataframe.DataFrame"
            ],
            "text/html": [
              "<div style=\"max-width:800px; border: 1px solid var(--colab-border-color);\"><style>\n",
              "      pre.function-repr-contents {\n",
              "        overflow-x: auto;\n",
              "        padding: 8px 12px;\n",
              "        max-height: 500px;\n",
              "      }\n",
              "\n",
              "      pre.function-repr-contents.function-repr-contents-collapsed {\n",
              "        cursor: pointer;\n",
              "        max-height: 100px;\n",
              "      }\n",
              "    </style>\n",
              "    <pre style=\"white-space: initial; background:\n",
              "         var(--colab-secondary-surface-color); padding: 8px 12px;\n",
              "         border-bottom: 1px solid var(--colab-border-color);\"><b>pyspark.sql.dataframe.DataFrame</b><br/>def __init__(jdf: JavaObject, sql_ctx: Union[&#x27;SQLContext&#x27;, &#x27;SparkSession&#x27;])</pre><pre class=\"function-repr-contents function-repr-contents-collapsed\" style=\"\"><a class=\"filepath\" style=\"display:none\" href=\"#\">/usr/local/lib/python3.10/dist-packages/pyspark/sql/dataframe.py</a>A distributed collection of data grouped into named columns.\n",
              "\n",
              ".. versionadded:: 1.3.0\n",
              "\n",
              ".. versionchanged:: 3.4.0\n",
              "    Supports Spark Connect.\n",
              "\n",
              "Examples\n",
              "--------\n",
              "A :class:`DataFrame` is equivalent to a relational table in Spark SQL,\n",
              "and can be created using various functions in :class:`SparkSession`:\n",
              "\n",
              "&gt;&gt;&gt; people = spark.createDataFrame([\n",
              "...     {&quot;deptId&quot;: 1, &quot;age&quot;: 40, &quot;name&quot;: &quot;Hyukjin Kwon&quot;, &quot;gender&quot;: &quot;M&quot;, &quot;salary&quot;: 50},\n",
              "...     {&quot;deptId&quot;: 1, &quot;age&quot;: 50, &quot;name&quot;: &quot;Takuya Ueshin&quot;, &quot;gender&quot;: &quot;M&quot;, &quot;salary&quot;: 100},\n",
              "...     {&quot;deptId&quot;: 2, &quot;age&quot;: 60, &quot;name&quot;: &quot;Xinrong Meng&quot;, &quot;gender&quot;: &quot;F&quot;, &quot;salary&quot;: 150},\n",
              "...     {&quot;deptId&quot;: 3, &quot;age&quot;: 20, &quot;name&quot;: &quot;Haejoon Lee&quot;, &quot;gender&quot;: &quot;M&quot;, &quot;salary&quot;: 200}\n",
              "... ])\n",
              "\n",
              "Once created, it can be manipulated using the various domain-specific-language\n",
              "(DSL) functions defined in: :class:`DataFrame`, :class:`Column`.\n",
              "\n",
              "To select a column from the :class:`DataFrame`, use the apply method:\n",
              "\n",
              "&gt;&gt;&gt; age_col = people.age\n",
              "\n",
              "A more concrete example:\n",
              "\n",
              "&gt;&gt;&gt; # To create DataFrame using SparkSession\n",
              "... department = spark.createDataFrame([\n",
              "...     {&quot;id&quot;: 1, &quot;name&quot;: &quot;PySpark&quot;},\n",
              "...     {&quot;id&quot;: 2, &quot;name&quot;: &quot;ML&quot;},\n",
              "...     {&quot;id&quot;: 3, &quot;name&quot;: &quot;Spark SQL&quot;}\n",
              "... ])\n",
              "\n",
              "&gt;&gt;&gt; people.filter(people.age &gt; 30).join(\n",
              "...     department, people.deptId == department.id).groupBy(\n",
              "...     department.name, &quot;gender&quot;).agg({&quot;salary&quot;: &quot;avg&quot;, &quot;age&quot;: &quot;max&quot;}).show()\n",
              "+-------+------+-----------+--------+\n",
              "|   name|gender|avg(salary)|max(age)|\n",
              "+-------+------+-----------+--------+\n",
              "|     ML|     F|      150.0|      60|\n",
              "|PySpark|     M|       75.0|      50|\n",
              "+-------+------+-----------+--------+\n",
              "\n",
              "Notes\n",
              "-----\n",
              "A DataFrame should only be created as described above. It should not be directly\n",
              "created via using the constructor.</pre>\n",
              "      <script>\n",
              "      if (google.colab.kernel.accessAllowed && google.colab.files && google.colab.files.view) {\n",
              "        for (const element of document.querySelectorAll('.filepath')) {\n",
              "          element.style.display = 'block'\n",
              "          element.onclick = (event) => {\n",
              "            event.preventDefault();\n",
              "            event.stopPropagation();\n",
              "            google.colab.files.view(element.textContent, 80);\n",
              "          };\n",
              "        }\n",
              "      }\n",
              "      for (const element of document.querySelectorAll('.function-repr-contents')) {\n",
              "        element.onclick = (event) => {\n",
              "          event.preventDefault();\n",
              "          event.stopPropagation();\n",
              "          element.classList.toggle('function-repr-contents-collapsed');\n",
              "        };\n",
              "      }\n",
              "      </script>\n",
              "      </div>"
            ]
          },
          "metadata": {},
          "execution_count": 11
        }
      ]
    },
    {
      "cell_type": "code",
      "source": [
        "df_pyspark.head(2)"
      ],
      "metadata": {
        "colab": {
          "base_uri": "https://localhost:8080/"
        },
        "id": "Dv0wS39fEbFf",
        "outputId": "287d77ac-eed0-45f6-9c5c-3526c8e2155d"
      },
      "execution_count": 13,
      "outputs": [
        {
          "output_type": "execute_result",
          "data": {
            "text/plain": [
              "[Row(longitude='-114.310000', latitude='34.190000', housing_median_age='15.000000', total_rooms='5612.000000', total_bedrooms='1283.000000', population='1015.000000', households='472.000000', median_income='1.493600', median_house_value='66900.000000'),\n",
              " Row(longitude='-114.470000', latitude='34.400000', housing_median_age='19.000000', total_rooms='7650.000000', total_bedrooms='1901.000000', population='1129.000000', households='463.000000', median_income='1.820000', median_house_value='80100.000000')]"
            ]
          },
          "metadata": {},
          "execution_count": 13
        }
      ]
    },
    {
      "cell_type": "code",
      "source": [
        "df_pyspark.printSchema()"
      ],
      "metadata": {
        "colab": {
          "base_uri": "https://localhost:8080/"
        },
        "id": "pBAmB9fsEgw3",
        "outputId": "787a34ff-a843-454d-bde7-f9c222c8a4ac"
      },
      "execution_count": 14,
      "outputs": [
        {
          "output_type": "stream",
          "name": "stdout",
          "text": [
            "root\n",
            " |-- longitude: string (nullable = true)\n",
            " |-- latitude: string (nullable = true)\n",
            " |-- housing_median_age: string (nullable = true)\n",
            " |-- total_rooms: string (nullable = true)\n",
            " |-- total_bedrooms: string (nullable = true)\n",
            " |-- population: string (nullable = true)\n",
            " |-- households: string (nullable = true)\n",
            " |-- median_income: string (nullable = true)\n",
            " |-- median_house_value: string (nullable = true)\n",
            "\n"
          ]
        }
      ]
    },
    {
      "cell_type": "code",
      "source": [
        "import pyspark\n",
        "from pyspark.sql import SparkSession\n",
        "spark = SparkSession.builder.appName('DataFrame').getOrCreate()\n",
        "spark"
      ],
      "metadata": {
        "colab": {
          "base_uri": "https://localhost:8080/",
          "height": 219
        },
        "id": "bjfS3o6nEoEf",
        "outputId": "a24ad8c5-81c6-4870-de7d-dbbb2d19deab"
      },
      "execution_count": 15,
      "outputs": [
        {
          "output_type": "execute_result",
          "data": {
            "text/plain": [
              "<pyspark.sql.session.SparkSession at 0x7fd7c83f06d0>"
            ],
            "text/html": [
              "\n",
              "            <div>\n",
              "                <p><b>SparkSession - in-memory</b></p>\n",
              "                \n",
              "        <div>\n",
              "            <p><b>SparkContext</b></p>\n",
              "\n",
              "            <p><a href=\"http://0baf1ba8c3e1:4040\">Spark UI</a></p>\n",
              "\n",
              "            <dl>\n",
              "              <dt>Version</dt>\n",
              "                <dd><code>v3.5.1</code></dd>\n",
              "              <dt>Master</dt>\n",
              "                <dd><code>local[*]</code></dd>\n",
              "              <dt>AppName</dt>\n",
              "                <dd><code>Practise</code></dd>\n",
              "            </dl>\n",
              "        </div>\n",
              "        \n",
              "            </div>\n",
              "        "
            ]
          },
          "metadata": {},
          "execution_count": 15
        }
      ]
    },
    {
      "cell_type": "code",
      "source": [
        "## reading the dataset\n",
        "pyspark_df = spark.read.csv('sample_data/california_housing_train.csv'  , header= True , inferSchema= True)\n",
        "pyspark_df"
      ],
      "metadata": {
        "colab": {
          "base_uri": "https://localhost:8080/"
        },
        "id": "QEilTo8OG6w8",
        "outputId": "15c1e17b-461a-4016-9731-3196d40029a1"
      },
      "execution_count": 43,
      "outputs": [
        {
          "output_type": "execute_result",
          "data": {
            "text/plain": [
              "DataFrame[longitude: double, latitude: double, housing_median_age: double, total_rooms: double, total_bedrooms: double, population: double, households: double, median_income: double, median_house_value: double]"
            ]
          },
          "metadata": {},
          "execution_count": 43
        }
      ]
    },
    {
      "cell_type": "code",
      "source": [
        "pyspark_df.show()"
      ],
      "metadata": {
        "colab": {
          "base_uri": "https://localhost:8080/"
        },
        "id": "O6FEEuY6H6gd",
        "outputId": "8df4b248-57eb-46af-bb48-b52406f21aa3"
      },
      "execution_count": 44,
      "outputs": [
        {
          "output_type": "stream",
          "name": "stdout",
          "text": [
            "+---------+--------+------------------+-----------+--------------+----------+----------+-------------+------------------+\n",
            "|longitude|latitude|housing_median_age|total_rooms|total_bedrooms|population|households|median_income|median_house_value|\n",
            "+---------+--------+------------------+-----------+--------------+----------+----------+-------------+------------------+\n",
            "|  -114.31|   34.19|              15.0|     5612.0|        1283.0|    1015.0|     472.0|       1.4936|           66900.0|\n",
            "|  -114.47|    34.4|              19.0|     7650.0|        1901.0|    1129.0|     463.0|         1.82|           80100.0|\n",
            "|  -114.56|   33.69|              17.0|      720.0|         174.0|     333.0|     117.0|       1.6509|           85700.0|\n",
            "|  -114.57|   33.64|              14.0|     1501.0|         337.0|     515.0|     226.0|       3.1917|           73400.0|\n",
            "|  -114.57|   33.57|              20.0|     1454.0|         326.0|     624.0|     262.0|        1.925|           65500.0|\n",
            "|  -114.58|   33.63|              29.0|     1387.0|         236.0|     671.0|     239.0|       3.3438|           74000.0|\n",
            "|  -114.58|   33.61|              25.0|     2907.0|         680.0|    1841.0|     633.0|       2.6768|           82400.0|\n",
            "|  -114.59|   34.83|              41.0|      812.0|         168.0|     375.0|     158.0|       1.7083|           48500.0|\n",
            "|  -114.59|   33.61|              34.0|     4789.0|        1175.0|    3134.0|    1056.0|       2.1782|           58400.0|\n",
            "|   -114.6|   34.83|              46.0|     1497.0|         309.0|     787.0|     271.0|       2.1908|           48100.0|\n",
            "|   -114.6|   33.62|              16.0|     3741.0|         801.0|    2434.0|     824.0|       2.6797|           86500.0|\n",
            "|   -114.6|    33.6|              21.0|     1988.0|         483.0|    1182.0|     437.0|        1.625|           62000.0|\n",
            "|  -114.61|   34.84|              48.0|     1291.0|         248.0|     580.0|     211.0|       2.1571|           48600.0|\n",
            "|  -114.61|   34.83|              31.0|     2478.0|         464.0|    1346.0|     479.0|        3.212|           70400.0|\n",
            "|  -114.63|   32.76|              15.0|     1448.0|         378.0|     949.0|     300.0|       0.8585|           45000.0|\n",
            "|  -114.65|   34.89|              17.0|     2556.0|         587.0|    1005.0|     401.0|       1.6991|           69100.0|\n",
            "|  -114.65|    33.6|              28.0|     1678.0|         322.0|     666.0|     256.0|       2.9653|           94900.0|\n",
            "|  -114.65|   32.79|              21.0|       44.0|          33.0|      64.0|      27.0|       0.8571|           25000.0|\n",
            "|  -114.66|   32.74|              17.0|     1388.0|         386.0|     775.0|     320.0|       1.2049|           44000.0|\n",
            "|  -114.67|   33.92|              17.0|       97.0|          24.0|      29.0|      15.0|       1.2656|           27500.0|\n",
            "+---------+--------+------------------+-----------+--------------+----------+----------+-------------+------------------+\n",
            "only showing top 20 rows\n",
            "\n"
          ]
        }
      ]
    },
    {
      "cell_type": "code",
      "source": [
        "pyspark_df.printSchema()"
      ],
      "metadata": {
        "colab": {
          "base_uri": "https://localhost:8080/"
        },
        "id": "VW8wFV_uHRtO",
        "outputId": "5d28b7c1-42d6-45a9-8de4-c4db1ddfe52f"
      },
      "execution_count": 45,
      "outputs": [
        {
          "output_type": "stream",
          "name": "stdout",
          "text": [
            "root\n",
            " |-- longitude: double (nullable = true)\n",
            " |-- latitude: double (nullable = true)\n",
            " |-- housing_median_age: double (nullable = true)\n",
            " |-- total_rooms: double (nullable = true)\n",
            " |-- total_bedrooms: double (nullable = true)\n",
            " |-- population: double (nullable = true)\n",
            " |-- households: double (nullable = true)\n",
            " |-- median_income: double (nullable = true)\n",
            " |-- median_house_value: double (nullable = true)\n",
            "\n"
          ]
        }
      ]
    },
    {
      "cell_type": "code",
      "source": [
        "# get columns\n",
        "pyspark_df.columns"
      ],
      "metadata": {
        "colab": {
          "base_uri": "https://localhost:8080/"
        },
        "id": "uCfD9YxTHVow",
        "outputId": "12a69938-741d-4df7-eb52-44ebcb7914a1"
      },
      "execution_count": 46,
      "outputs": [
        {
          "output_type": "execute_result",
          "data": {
            "text/plain": [
              "['longitude',\n",
              " 'latitude',\n",
              " 'housing_median_age',\n",
              " 'total_rooms',\n",
              " 'total_bedrooms',\n",
              " 'population',\n",
              " 'households',\n",
              " 'median_income',\n",
              " 'median_house_value']"
            ]
          },
          "metadata": {},
          "execution_count": 46
        }
      ]
    },
    {
      "cell_type": "code",
      "source": [
        "# select a columsn\n",
        "pyspark_df.select('longitude').show()"
      ],
      "metadata": {
        "colab": {
          "base_uri": "https://localhost:8080/"
        },
        "id": "jcS0jOxIIFLh",
        "outputId": "69e58e6a-dbf4-44cc-bcff-24fdb860a2fa"
      },
      "execution_count": 47,
      "outputs": [
        {
          "output_type": "stream",
          "name": "stdout",
          "text": [
            "+---------+\n",
            "|longitude|\n",
            "+---------+\n",
            "|  -114.31|\n",
            "|  -114.47|\n",
            "|  -114.56|\n",
            "|  -114.57|\n",
            "|  -114.57|\n",
            "|  -114.58|\n",
            "|  -114.58|\n",
            "|  -114.59|\n",
            "|  -114.59|\n",
            "|   -114.6|\n",
            "|   -114.6|\n",
            "|   -114.6|\n",
            "|  -114.61|\n",
            "|  -114.61|\n",
            "|  -114.63|\n",
            "|  -114.65|\n",
            "|  -114.65|\n",
            "|  -114.65|\n",
            "|  -114.66|\n",
            "|  -114.67|\n",
            "+---------+\n",
            "only showing top 20 rows\n",
            "\n"
          ]
        }
      ]
    },
    {
      "cell_type": "code",
      "source": [
        "type(pyspark_df.select('longitude'))"
      ],
      "metadata": {
        "colab": {
          "base_uri": "https://localhost:8080/",
          "height": 186
        },
        "id": "MAVJNsOvIUd7",
        "outputId": "50379b06-3be5-480b-aad6-d3330b5481a2"
      },
      "execution_count": 48,
      "outputs": [
        {
          "output_type": "execute_result",
          "data": {
            "text/plain": [
              "pyspark.sql.dataframe.DataFrame"
            ],
            "text/html": [
              "<div style=\"max-width:800px; border: 1px solid var(--colab-border-color);\"><style>\n",
              "      pre.function-repr-contents {\n",
              "        overflow-x: auto;\n",
              "        padding: 8px 12px;\n",
              "        max-height: 500px;\n",
              "      }\n",
              "\n",
              "      pre.function-repr-contents.function-repr-contents-collapsed {\n",
              "        cursor: pointer;\n",
              "        max-height: 100px;\n",
              "      }\n",
              "    </style>\n",
              "    <pre style=\"white-space: initial; background:\n",
              "         var(--colab-secondary-surface-color); padding: 8px 12px;\n",
              "         border-bottom: 1px solid var(--colab-border-color);\"><b>pyspark.sql.dataframe.DataFrame</b><br/>def __init__(jdf: JavaObject, sql_ctx: Union[&#x27;SQLContext&#x27;, &#x27;SparkSession&#x27;])</pre><pre class=\"function-repr-contents function-repr-contents-collapsed\" style=\"\"><a class=\"filepath\" style=\"display:none\" href=\"#\">/usr/local/lib/python3.10/dist-packages/pyspark/sql/dataframe.py</a>A distributed collection of data grouped into named columns.\n",
              "\n",
              ".. versionadded:: 1.3.0\n",
              "\n",
              ".. versionchanged:: 3.4.0\n",
              "    Supports Spark Connect.\n",
              "\n",
              "Examples\n",
              "--------\n",
              "A :class:`DataFrame` is equivalent to a relational table in Spark SQL,\n",
              "and can be created using various functions in :class:`SparkSession`:\n",
              "\n",
              "&gt;&gt;&gt; people = spark.createDataFrame([\n",
              "...     {&quot;deptId&quot;: 1, &quot;age&quot;: 40, &quot;name&quot;: &quot;Hyukjin Kwon&quot;, &quot;gender&quot;: &quot;M&quot;, &quot;salary&quot;: 50},\n",
              "...     {&quot;deptId&quot;: 1, &quot;age&quot;: 50, &quot;name&quot;: &quot;Takuya Ueshin&quot;, &quot;gender&quot;: &quot;M&quot;, &quot;salary&quot;: 100},\n",
              "...     {&quot;deptId&quot;: 2, &quot;age&quot;: 60, &quot;name&quot;: &quot;Xinrong Meng&quot;, &quot;gender&quot;: &quot;F&quot;, &quot;salary&quot;: 150},\n",
              "...     {&quot;deptId&quot;: 3, &quot;age&quot;: 20, &quot;name&quot;: &quot;Haejoon Lee&quot;, &quot;gender&quot;: &quot;M&quot;, &quot;salary&quot;: 200}\n",
              "... ])\n",
              "\n",
              "Once created, it can be manipulated using the various domain-specific-language\n",
              "(DSL) functions defined in: :class:`DataFrame`, :class:`Column`.\n",
              "\n",
              "To select a column from the :class:`DataFrame`, use the apply method:\n",
              "\n",
              "&gt;&gt;&gt; age_col = people.age\n",
              "\n",
              "A more concrete example:\n",
              "\n",
              "&gt;&gt;&gt; # To create DataFrame using SparkSession\n",
              "... department = spark.createDataFrame([\n",
              "...     {&quot;id&quot;: 1, &quot;name&quot;: &quot;PySpark&quot;},\n",
              "...     {&quot;id&quot;: 2, &quot;name&quot;: &quot;ML&quot;},\n",
              "...     {&quot;id&quot;: 3, &quot;name&quot;: &quot;Spark SQL&quot;}\n",
              "... ])\n",
              "\n",
              "&gt;&gt;&gt; people.filter(people.age &gt; 30).join(\n",
              "...     department, people.deptId == department.id).groupBy(\n",
              "...     department.name, &quot;gender&quot;).agg({&quot;salary&quot;: &quot;avg&quot;, &quot;age&quot;: &quot;max&quot;}).show()\n",
              "+-------+------+-----------+--------+\n",
              "|   name|gender|avg(salary)|max(age)|\n",
              "+-------+------+-----------+--------+\n",
              "|     ML|     F|      150.0|      60|\n",
              "|PySpark|     M|       75.0|      50|\n",
              "+-------+------+-----------+--------+\n",
              "\n",
              "Notes\n",
              "-----\n",
              "A DataFrame should only be created as described above. It should not be directly\n",
              "created via using the constructor.</pre>\n",
              "      <script>\n",
              "      if (google.colab.kernel.accessAllowed && google.colab.files && google.colab.files.view) {\n",
              "        for (const element of document.querySelectorAll('.filepath')) {\n",
              "          element.style.display = 'block'\n",
              "          element.onclick = (event) => {\n",
              "            event.preventDefault();\n",
              "            event.stopPropagation();\n",
              "            google.colab.files.view(element.textContent, 80);\n",
              "          };\n",
              "        }\n",
              "      }\n",
              "      for (const element of document.querySelectorAll('.function-repr-contents')) {\n",
              "        element.onclick = (event) => {\n",
              "          event.preventDefault();\n",
              "          event.stopPropagation();\n",
              "          element.classList.toggle('function-repr-contents-collapsed');\n",
              "        };\n",
              "      }\n",
              "      </script>\n",
              "      </div>"
            ]
          },
          "metadata": {},
          "execution_count": 48
        }
      ]
    },
    {
      "cell_type": "code",
      "source": [
        "# selecting 2 columns\n",
        "pyspark_df.select(['longitude', 'latitude']).show()"
      ],
      "metadata": {
        "colab": {
          "base_uri": "https://localhost:8080/"
        },
        "id": "D0O2wzolIi28",
        "outputId": "6d249068-274c-4e12-e1b1-79e89b4745dd"
      },
      "execution_count": 49,
      "outputs": [
        {
          "output_type": "stream",
          "name": "stdout",
          "text": [
            "+---------+--------+\n",
            "|longitude|latitude|\n",
            "+---------+--------+\n",
            "|  -114.31|   34.19|\n",
            "|  -114.47|    34.4|\n",
            "|  -114.56|   33.69|\n",
            "|  -114.57|   33.64|\n",
            "|  -114.57|   33.57|\n",
            "|  -114.58|   33.63|\n",
            "|  -114.58|   33.61|\n",
            "|  -114.59|   34.83|\n",
            "|  -114.59|   33.61|\n",
            "|   -114.6|   34.83|\n",
            "|   -114.6|   33.62|\n",
            "|   -114.6|    33.6|\n",
            "|  -114.61|   34.84|\n",
            "|  -114.61|   34.83|\n",
            "|  -114.63|   32.76|\n",
            "|  -114.65|   34.89|\n",
            "|  -114.65|    33.6|\n",
            "|  -114.65|   32.79|\n",
            "|  -114.66|   32.74|\n",
            "|  -114.67|   33.92|\n",
            "+---------+--------+\n",
            "only showing top 20 rows\n",
            "\n"
          ]
        }
      ]
    },
    {
      "cell_type": "code",
      "source": [
        "# check data type\n",
        "pyspark_df.dtypes"
      ],
      "metadata": {
        "colab": {
          "base_uri": "https://localhost:8080/"
        },
        "id": "84xaljnCI7KI",
        "outputId": "237f8a64-ef48-4054-e60d-25b627c49d82"
      },
      "execution_count": 50,
      "outputs": [
        {
          "output_type": "execute_result",
          "data": {
            "text/plain": [
              "[('longitude', 'double'),\n",
              " ('latitude', 'double'),\n",
              " ('housing_median_age', 'double'),\n",
              " ('total_rooms', 'double'),\n",
              " ('total_bedrooms', 'double'),\n",
              " ('population', 'double'),\n",
              " ('households', 'double'),\n",
              " ('median_income', 'double'),\n",
              " ('median_house_value', 'double')]"
            ]
          },
          "metadata": {},
          "execution_count": 50
        }
      ]
    },
    {
      "cell_type": "code",
      "source": [
        "pyspark_df.describe().show()"
      ],
      "metadata": {
        "colab": {
          "base_uri": "https://localhost:8080/"
        },
        "id": "ZzgUq5ZgJOwV",
        "outputId": "0b7e2165-11ad-4ae0-e512-fc4044d445c3"
      },
      "execution_count": 51,
      "outputs": [
        {
          "output_type": "stream",
          "name": "stdout",
          "text": [
            "+-------+-------------------+------------------+------------------+-----------------+-----------------+------------------+-----------------+------------------+------------------+\n",
            "|summary|          longitude|          latitude|housing_median_age|      total_rooms|   total_bedrooms|        population|       households|     median_income|median_house_value|\n",
            "+-------+-------------------+------------------+------------------+-----------------+-----------------+------------------+-----------------+------------------+------------------+\n",
            "|  count|              17000|             17000|             17000|            17000|            17000|             17000|            17000|             17000|             17000|\n",
            "|   mean|-119.56210823529375|  35.6252247058827| 28.58935294117647|2643.664411764706|539.4108235294118|1429.5739411764705|501.2219411764706| 3.883578100000021|207300.91235294117|\n",
            "| stddev| 2.0051664084260357|2.1373397946570867|12.586936981660406|2179.947071452777|421.4994515798648| 1147.852959159527|384.5208408559016|1.9081565183791036|115983.76438720895|\n",
            "|    min|            -124.35|             32.54|               1.0|              2.0|              1.0|               3.0|              1.0|            0.4999|           14999.0|\n",
            "|    max|            -114.31|             41.95|              52.0|          37937.0|           6445.0|           35682.0|           6082.0|           15.0001|          500001.0|\n",
            "+-------+-------------------+------------------+------------------+-----------------+-----------------+------------------+-----------------+------------------+------------------+\n",
            "\n"
          ]
        }
      ]
    },
    {
      "cell_type": "code",
      "source": [
        "pyspark_df.withColumn('total rooms + 2 ', pyspark_df['total_rooms'] + 2).show()"
      ],
      "metadata": {
        "colab": {
          "base_uri": "https://localhost:8080/"
        },
        "id": "oFcJxvu-Jhqg",
        "outputId": "a1df0697-8aca-4fe2-c3d5-64d6a7cbc596"
      },
      "execution_count": 52,
      "outputs": [
        {
          "output_type": "stream",
          "name": "stdout",
          "text": [
            "+---------+--------+------------------+-----------+--------------+----------+----------+-------------+------------------+----------------+\n",
            "|longitude|latitude|housing_median_age|total_rooms|total_bedrooms|population|households|median_income|median_house_value|total rooms + 2 |\n",
            "+---------+--------+------------------+-----------+--------------+----------+----------+-------------+------------------+----------------+\n",
            "|  -114.31|   34.19|              15.0|     5612.0|        1283.0|    1015.0|     472.0|       1.4936|           66900.0|          5614.0|\n",
            "|  -114.47|    34.4|              19.0|     7650.0|        1901.0|    1129.0|     463.0|         1.82|           80100.0|          7652.0|\n",
            "|  -114.56|   33.69|              17.0|      720.0|         174.0|     333.0|     117.0|       1.6509|           85700.0|           722.0|\n",
            "|  -114.57|   33.64|              14.0|     1501.0|         337.0|     515.0|     226.0|       3.1917|           73400.0|          1503.0|\n",
            "|  -114.57|   33.57|              20.0|     1454.0|         326.0|     624.0|     262.0|        1.925|           65500.0|          1456.0|\n",
            "|  -114.58|   33.63|              29.0|     1387.0|         236.0|     671.0|     239.0|       3.3438|           74000.0|          1389.0|\n",
            "|  -114.58|   33.61|              25.0|     2907.0|         680.0|    1841.0|     633.0|       2.6768|           82400.0|          2909.0|\n",
            "|  -114.59|   34.83|              41.0|      812.0|         168.0|     375.0|     158.0|       1.7083|           48500.0|           814.0|\n",
            "|  -114.59|   33.61|              34.0|     4789.0|        1175.0|    3134.0|    1056.0|       2.1782|           58400.0|          4791.0|\n",
            "|   -114.6|   34.83|              46.0|     1497.0|         309.0|     787.0|     271.0|       2.1908|           48100.0|          1499.0|\n",
            "|   -114.6|   33.62|              16.0|     3741.0|         801.0|    2434.0|     824.0|       2.6797|           86500.0|          3743.0|\n",
            "|   -114.6|    33.6|              21.0|     1988.0|         483.0|    1182.0|     437.0|        1.625|           62000.0|          1990.0|\n",
            "|  -114.61|   34.84|              48.0|     1291.0|         248.0|     580.0|     211.0|       2.1571|           48600.0|          1293.0|\n",
            "|  -114.61|   34.83|              31.0|     2478.0|         464.0|    1346.0|     479.0|        3.212|           70400.0|          2480.0|\n",
            "|  -114.63|   32.76|              15.0|     1448.0|         378.0|     949.0|     300.0|       0.8585|           45000.0|          1450.0|\n",
            "|  -114.65|   34.89|              17.0|     2556.0|         587.0|    1005.0|     401.0|       1.6991|           69100.0|          2558.0|\n",
            "|  -114.65|    33.6|              28.0|     1678.0|         322.0|     666.0|     256.0|       2.9653|           94900.0|          1680.0|\n",
            "|  -114.65|   32.79|              21.0|       44.0|          33.0|      64.0|      27.0|       0.8571|           25000.0|            46.0|\n",
            "|  -114.66|   32.74|              17.0|     1388.0|         386.0|     775.0|     320.0|       1.2049|           44000.0|          1390.0|\n",
            "|  -114.67|   33.92|              17.0|       97.0|          24.0|      29.0|      15.0|       1.2656|           27500.0|            99.0|\n",
            "+---------+--------+------------------+-----------+--------------+----------+----------+-------------+------------------+----------------+\n",
            "only showing top 20 rows\n",
            "\n"
          ]
        }
      ]
    },
    {
      "cell_type": "code",
      "source": [
        "pyspark_df = pyspark_df.withColumn('total rooms + 2 ', pyspark_df['total_rooms'] + 2) # not inplace so reassigning"
      ],
      "metadata": {
        "id": "gwR9d2ZCK7oz"
      },
      "execution_count": 53,
      "outputs": []
    },
    {
      "cell_type": "code",
      "source": [
        "pyspark_df.show()"
      ],
      "metadata": {
        "colab": {
          "base_uri": "https://localhost:8080/"
        },
        "id": "EmtE9F65LMbP",
        "outputId": "6a8473ab-691b-4e45-d803-1f600b679b44"
      },
      "execution_count": 54,
      "outputs": [
        {
          "output_type": "stream",
          "name": "stdout",
          "text": [
            "+---------+--------+------------------+-----------+--------------+----------+----------+-------------+------------------+----------------+\n",
            "|longitude|latitude|housing_median_age|total_rooms|total_bedrooms|population|households|median_income|median_house_value|total rooms + 2 |\n",
            "+---------+--------+------------------+-----------+--------------+----------+----------+-------------+------------------+----------------+\n",
            "|  -114.31|   34.19|              15.0|     5612.0|        1283.0|    1015.0|     472.0|       1.4936|           66900.0|          5614.0|\n",
            "|  -114.47|    34.4|              19.0|     7650.0|        1901.0|    1129.0|     463.0|         1.82|           80100.0|          7652.0|\n",
            "|  -114.56|   33.69|              17.0|      720.0|         174.0|     333.0|     117.0|       1.6509|           85700.0|           722.0|\n",
            "|  -114.57|   33.64|              14.0|     1501.0|         337.0|     515.0|     226.0|       3.1917|           73400.0|          1503.0|\n",
            "|  -114.57|   33.57|              20.0|     1454.0|         326.0|     624.0|     262.0|        1.925|           65500.0|          1456.0|\n",
            "|  -114.58|   33.63|              29.0|     1387.0|         236.0|     671.0|     239.0|       3.3438|           74000.0|          1389.0|\n",
            "|  -114.58|   33.61|              25.0|     2907.0|         680.0|    1841.0|     633.0|       2.6768|           82400.0|          2909.0|\n",
            "|  -114.59|   34.83|              41.0|      812.0|         168.0|     375.0|     158.0|       1.7083|           48500.0|           814.0|\n",
            "|  -114.59|   33.61|              34.0|     4789.0|        1175.0|    3134.0|    1056.0|       2.1782|           58400.0|          4791.0|\n",
            "|   -114.6|   34.83|              46.0|     1497.0|         309.0|     787.0|     271.0|       2.1908|           48100.0|          1499.0|\n",
            "|   -114.6|   33.62|              16.0|     3741.0|         801.0|    2434.0|     824.0|       2.6797|           86500.0|          3743.0|\n",
            "|   -114.6|    33.6|              21.0|     1988.0|         483.0|    1182.0|     437.0|        1.625|           62000.0|          1990.0|\n",
            "|  -114.61|   34.84|              48.0|     1291.0|         248.0|     580.0|     211.0|       2.1571|           48600.0|          1293.0|\n",
            "|  -114.61|   34.83|              31.0|     2478.0|         464.0|    1346.0|     479.0|        3.212|           70400.0|          2480.0|\n",
            "|  -114.63|   32.76|              15.0|     1448.0|         378.0|     949.0|     300.0|       0.8585|           45000.0|          1450.0|\n",
            "|  -114.65|   34.89|              17.0|     2556.0|         587.0|    1005.0|     401.0|       1.6991|           69100.0|          2558.0|\n",
            "|  -114.65|    33.6|              28.0|     1678.0|         322.0|     666.0|     256.0|       2.9653|           94900.0|          1680.0|\n",
            "|  -114.65|   32.79|              21.0|       44.0|          33.0|      64.0|      27.0|       0.8571|           25000.0|            46.0|\n",
            "|  -114.66|   32.74|              17.0|     1388.0|         386.0|     775.0|     320.0|       1.2049|           44000.0|          1390.0|\n",
            "|  -114.67|   33.92|              17.0|       97.0|          24.0|      29.0|      15.0|       1.2656|           27500.0|            99.0|\n",
            "+---------+--------+------------------+-----------+--------------+----------+----------+-------------+------------------+----------------+\n",
            "only showing top 20 rows\n",
            "\n"
          ]
        }
      ]
    },
    {
      "cell_type": "code",
      "source": [
        "pyspark_df = pyspark_df.drop('total rooms + 2 ')"
      ],
      "metadata": {
        "id": "wdcNACiuLOSj"
      },
      "execution_count": 57,
      "outputs": []
    },
    {
      "cell_type": "code",
      "source": [
        "pyspark_df.show()"
      ],
      "metadata": {
        "colab": {
          "base_uri": "https://localhost:8080/"
        },
        "id": "00im9USALeTd",
        "outputId": "82afb475-b977-4f1c-d487-80b196ed3b16"
      },
      "execution_count": 58,
      "outputs": [
        {
          "output_type": "stream",
          "name": "stdout",
          "text": [
            "+---------+--------+------------------+-----------+--------------+----------+----------+-------------+------------------+\n",
            "|longitude|latitude|housing_median_age|total_rooms|total_bedrooms|population|households|median_income|median_house_value|\n",
            "+---------+--------+------------------+-----------+--------------+----------+----------+-------------+------------------+\n",
            "|  -114.31|   34.19|              15.0|     5612.0|        1283.0|    1015.0|     472.0|       1.4936|           66900.0|\n",
            "|  -114.47|    34.4|              19.0|     7650.0|        1901.0|    1129.0|     463.0|         1.82|           80100.0|\n",
            "|  -114.56|   33.69|              17.0|      720.0|         174.0|     333.0|     117.0|       1.6509|           85700.0|\n",
            "|  -114.57|   33.64|              14.0|     1501.0|         337.0|     515.0|     226.0|       3.1917|           73400.0|\n",
            "|  -114.57|   33.57|              20.0|     1454.0|         326.0|     624.0|     262.0|        1.925|           65500.0|\n",
            "|  -114.58|   33.63|              29.0|     1387.0|         236.0|     671.0|     239.0|       3.3438|           74000.0|\n",
            "|  -114.58|   33.61|              25.0|     2907.0|         680.0|    1841.0|     633.0|       2.6768|           82400.0|\n",
            "|  -114.59|   34.83|              41.0|      812.0|         168.0|     375.0|     158.0|       1.7083|           48500.0|\n",
            "|  -114.59|   33.61|              34.0|     4789.0|        1175.0|    3134.0|    1056.0|       2.1782|           58400.0|\n",
            "|   -114.6|   34.83|              46.0|     1497.0|         309.0|     787.0|     271.0|       2.1908|           48100.0|\n",
            "|   -114.6|   33.62|              16.0|     3741.0|         801.0|    2434.0|     824.0|       2.6797|           86500.0|\n",
            "|   -114.6|    33.6|              21.0|     1988.0|         483.0|    1182.0|     437.0|        1.625|           62000.0|\n",
            "|  -114.61|   34.84|              48.0|     1291.0|         248.0|     580.0|     211.0|       2.1571|           48600.0|\n",
            "|  -114.61|   34.83|              31.0|     2478.0|         464.0|    1346.0|     479.0|        3.212|           70400.0|\n",
            "|  -114.63|   32.76|              15.0|     1448.0|         378.0|     949.0|     300.0|       0.8585|           45000.0|\n",
            "|  -114.65|   34.89|              17.0|     2556.0|         587.0|    1005.0|     401.0|       1.6991|           69100.0|\n",
            "|  -114.65|    33.6|              28.0|     1678.0|         322.0|     666.0|     256.0|       2.9653|           94900.0|\n",
            "|  -114.65|   32.79|              21.0|       44.0|          33.0|      64.0|      27.0|       0.8571|           25000.0|\n",
            "|  -114.66|   32.74|              17.0|     1388.0|         386.0|     775.0|     320.0|       1.2049|           44000.0|\n",
            "|  -114.67|   33.92|              17.0|       97.0|          24.0|      29.0|      15.0|       1.2656|           27500.0|\n",
            "+---------+--------+------------------+-----------+--------------+----------+----------+-------------+------------------+\n",
            "only showing top 20 rows\n",
            "\n"
          ]
        }
      ]
    },
    {
      "cell_type": "code",
      "source": [
        "# rename a columns\n",
        "\n",
        "pyspark_df.withColumnRenamed('total_rooms' , 'rooms').show()  # not inplace"
      ],
      "metadata": {
        "colab": {
          "base_uri": "https://localhost:8080/"
        },
        "id": "LAgZzAuaLqxs",
        "outputId": "71e6c7a3-e613-412e-e354-3c396e983b8c"
      },
      "execution_count": 59,
      "outputs": [
        {
          "output_type": "stream",
          "name": "stdout",
          "text": [
            "+---------+--------+------------------+------+--------------+----------+----------+-------------+------------------+\n",
            "|longitude|latitude|housing_median_age| rooms|total_bedrooms|population|households|median_income|median_house_value|\n",
            "+---------+--------+------------------+------+--------------+----------+----------+-------------+------------------+\n",
            "|  -114.31|   34.19|              15.0|5612.0|        1283.0|    1015.0|     472.0|       1.4936|           66900.0|\n",
            "|  -114.47|    34.4|              19.0|7650.0|        1901.0|    1129.0|     463.0|         1.82|           80100.0|\n",
            "|  -114.56|   33.69|              17.0| 720.0|         174.0|     333.0|     117.0|       1.6509|           85700.0|\n",
            "|  -114.57|   33.64|              14.0|1501.0|         337.0|     515.0|     226.0|       3.1917|           73400.0|\n",
            "|  -114.57|   33.57|              20.0|1454.0|         326.0|     624.0|     262.0|        1.925|           65500.0|\n",
            "|  -114.58|   33.63|              29.0|1387.0|         236.0|     671.0|     239.0|       3.3438|           74000.0|\n",
            "|  -114.58|   33.61|              25.0|2907.0|         680.0|    1841.0|     633.0|       2.6768|           82400.0|\n",
            "|  -114.59|   34.83|              41.0| 812.0|         168.0|     375.0|     158.0|       1.7083|           48500.0|\n",
            "|  -114.59|   33.61|              34.0|4789.0|        1175.0|    3134.0|    1056.0|       2.1782|           58400.0|\n",
            "|   -114.6|   34.83|              46.0|1497.0|         309.0|     787.0|     271.0|       2.1908|           48100.0|\n",
            "|   -114.6|   33.62|              16.0|3741.0|         801.0|    2434.0|     824.0|       2.6797|           86500.0|\n",
            "|   -114.6|    33.6|              21.0|1988.0|         483.0|    1182.0|     437.0|        1.625|           62000.0|\n",
            "|  -114.61|   34.84|              48.0|1291.0|         248.0|     580.0|     211.0|       2.1571|           48600.0|\n",
            "|  -114.61|   34.83|              31.0|2478.0|         464.0|    1346.0|     479.0|        3.212|           70400.0|\n",
            "|  -114.63|   32.76|              15.0|1448.0|         378.0|     949.0|     300.0|       0.8585|           45000.0|\n",
            "|  -114.65|   34.89|              17.0|2556.0|         587.0|    1005.0|     401.0|       1.6991|           69100.0|\n",
            "|  -114.65|    33.6|              28.0|1678.0|         322.0|     666.0|     256.0|       2.9653|           94900.0|\n",
            "|  -114.65|   32.79|              21.0|  44.0|          33.0|      64.0|      27.0|       0.8571|           25000.0|\n",
            "|  -114.66|   32.74|              17.0|1388.0|         386.0|     775.0|     320.0|       1.2049|           44000.0|\n",
            "|  -114.67|   33.92|              17.0|  97.0|          24.0|      29.0|      15.0|       1.2656|           27500.0|\n",
            "+---------+--------+------------------+------+--------------+----------+----------+-------------+------------------+\n",
            "only showing top 20 rows\n",
            "\n"
          ]
        }
      ]
    },
    {
      "cell_type": "code",
      "source": [
        "pyspark_df.show()"
      ],
      "metadata": {
        "colab": {
          "base_uri": "https://localhost:8080/"
        },
        "id": "YQobfg1lMODV",
        "outputId": "b3c99c83-6c1e-4eb8-de7f-546096f2c78b"
      },
      "execution_count": 61,
      "outputs": [
        {
          "output_type": "stream",
          "name": "stdout",
          "text": [
            "+---------+--------+------------------+-----------+--------------+----------+----------+-------------+------------------+\n",
            "|longitude|latitude|housing_median_age|total_rooms|total_bedrooms|population|households|median_income|median_house_value|\n",
            "+---------+--------+------------------+-----------+--------------+----------+----------+-------------+------------------+\n",
            "|  -114.31|   34.19|              15.0|     5612.0|        1283.0|    1015.0|     472.0|       1.4936|           66900.0|\n",
            "|  -114.47|    34.4|              19.0|     7650.0|        1901.0|    1129.0|     463.0|         1.82|           80100.0|\n",
            "|  -114.56|   33.69|              17.0|      720.0|         174.0|     333.0|     117.0|       1.6509|           85700.0|\n",
            "|  -114.57|   33.64|              14.0|     1501.0|         337.0|     515.0|     226.0|       3.1917|           73400.0|\n",
            "|  -114.57|   33.57|              20.0|     1454.0|         326.0|     624.0|     262.0|        1.925|           65500.0|\n",
            "|  -114.58|   33.63|              29.0|     1387.0|         236.0|     671.0|     239.0|       3.3438|           74000.0|\n",
            "|  -114.58|   33.61|              25.0|     2907.0|         680.0|    1841.0|     633.0|       2.6768|           82400.0|\n",
            "|  -114.59|   34.83|              41.0|      812.0|         168.0|     375.0|     158.0|       1.7083|           48500.0|\n",
            "|  -114.59|   33.61|              34.0|     4789.0|        1175.0|    3134.0|    1056.0|       2.1782|           58400.0|\n",
            "|   -114.6|   34.83|              46.0|     1497.0|         309.0|     787.0|     271.0|       2.1908|           48100.0|\n",
            "|   -114.6|   33.62|              16.0|     3741.0|         801.0|    2434.0|     824.0|       2.6797|           86500.0|\n",
            "|   -114.6|    33.6|              21.0|     1988.0|         483.0|    1182.0|     437.0|        1.625|           62000.0|\n",
            "|  -114.61|   34.84|              48.0|     1291.0|         248.0|     580.0|     211.0|       2.1571|           48600.0|\n",
            "|  -114.61|   34.83|              31.0|     2478.0|         464.0|    1346.0|     479.0|        3.212|           70400.0|\n",
            "|  -114.63|   32.76|              15.0|     1448.0|         378.0|     949.0|     300.0|       0.8585|           45000.0|\n",
            "|  -114.65|   34.89|              17.0|     2556.0|         587.0|    1005.0|     401.0|       1.6991|           69100.0|\n",
            "|  -114.65|    33.6|              28.0|     1678.0|         322.0|     666.0|     256.0|       2.9653|           94900.0|\n",
            "|  -114.65|   32.79|              21.0|       44.0|          33.0|      64.0|      27.0|       0.8571|           25000.0|\n",
            "|  -114.66|   32.74|              17.0|     1388.0|         386.0|     775.0|     320.0|       1.2049|           44000.0|\n",
            "|  -114.67|   33.92|              17.0|       97.0|          24.0|      29.0|      15.0|       1.2656|           27500.0|\n",
            "+---------+--------+------------------+-----------+--------------+----------+----------+-------------+------------------+\n",
            "only showing top 20 rows\n",
            "\n"
          ]
        }
      ]
    },
    {
      "cell_type": "markdown",
      "source": [
        "# tutorial 3\n",
        "\n",
        "- Dropping columns\n",
        "- Dropping Rows\n",
        "- various parameter in dropping fucn\n",
        "- Handling missing values by mean , median , mode"
      ],
      "metadata": {
        "id": "hdc3vjAwMtHT"
      }
    },
    {
      "cell_type": "code",
      "source": [
        "import pyspark\n",
        "from pyspark.sql import SparkSession\n",
        "spark = SparkSession.builder.appName('DataModificatoin').getOrCreate()\n"
      ],
      "metadata": {
        "id": "FeskQ1KvMQNW"
      },
      "execution_count": 97,
      "outputs": []
    },
    {
      "cell_type": "code",
      "source": [
        "data_set = spark.read.csv('sample_data/california_housing_train.csv' , header = True , inferSchema= True)"
      ],
      "metadata": {
        "id": "-ySKDxRCVp7v"
      },
      "execution_count": 107,
      "outputs": []
    },
    {
      "cell_type": "code",
      "source": [
        "data_set = data_set.drop('latitude')"
      ],
      "metadata": {
        "id": "otw__jyoV4AI"
      },
      "execution_count": 108,
      "outputs": []
    },
    {
      "cell_type": "code",
      "source": [
        "data_set = data_set.limit(20)"
      ],
      "metadata": {
        "id": "GYfDiSuGWF6v"
      },
      "execution_count": 109,
      "outputs": []
    },
    {
      "cell_type": "code",
      "source": [
        "data_set.show()"
      ],
      "metadata": {
        "colab": {
          "base_uri": "https://localhost:8080/"
        },
        "id": "gKqed4nZdUhf",
        "outputId": "04d66842-f308-47cd-994d-f370a823f5db"
      },
      "execution_count": 110,
      "outputs": [
        {
          "output_type": "stream",
          "name": "stdout",
          "text": [
            "+---------+------------------+-----------+--------------+----------+----------+-------------+------------------+\n",
            "|longitude|housing_median_age|total_rooms|total_bedrooms|population|households|median_income|median_house_value|\n",
            "+---------+------------------+-----------+--------------+----------+----------+-------------+------------------+\n",
            "|  -114.31|              15.0|     5612.0|        1283.0|    1015.0|     472.0|       1.4936|           66900.0|\n",
            "|  -114.47|              19.0|     7650.0|        1901.0|    1129.0|     463.0|         1.82|           80100.0|\n",
            "|  -114.56|              17.0|      720.0|         174.0|     333.0|     117.0|       1.6509|           85700.0|\n",
            "|  -114.57|              14.0|     1501.0|         337.0|     515.0|     226.0|       3.1917|           73400.0|\n",
            "|  -114.57|              20.0|     1454.0|         326.0|     624.0|     262.0|        1.925|           65500.0|\n",
            "|  -114.58|              29.0|     1387.0|         236.0|     671.0|     239.0|       3.3438|           74000.0|\n",
            "|  -114.58|              25.0|     2907.0|         680.0|    1841.0|     633.0|       2.6768|           82400.0|\n",
            "|  -114.59|              41.0|      812.0|         168.0|     375.0|     158.0|       1.7083|           48500.0|\n",
            "|  -114.59|              34.0|     4789.0|        1175.0|    3134.0|    1056.0|       2.1782|           58400.0|\n",
            "|   -114.6|              46.0|     1497.0|         309.0|     787.0|     271.0|       2.1908|           48100.0|\n",
            "|   -114.6|              16.0|     3741.0|         801.0|    2434.0|     824.0|       2.6797|           86500.0|\n",
            "|   -114.6|              21.0|     1988.0|         483.0|    1182.0|     437.0|        1.625|           62000.0|\n",
            "|  -114.61|              48.0|     1291.0|         248.0|     580.0|     211.0|       2.1571|           48600.0|\n",
            "|  -114.61|              31.0|     2478.0|         464.0|    1346.0|     479.0|        3.212|           70400.0|\n",
            "|  -114.63|              15.0|     1448.0|         378.0|     949.0|     300.0|       0.8585|           45000.0|\n",
            "|  -114.65|              17.0|     2556.0|         587.0|    1005.0|     401.0|       1.6991|           69100.0|\n",
            "|  -114.65|              28.0|     1678.0|         322.0|     666.0|     256.0|       2.9653|           94900.0|\n",
            "|  -114.65|              21.0|       44.0|          33.0|      64.0|      27.0|       0.8571|           25000.0|\n",
            "|  -114.66|              17.0|     1388.0|         386.0|     775.0|     320.0|       1.2049|           44000.0|\n",
            "|  -114.67|              17.0|       97.0|          24.0|      29.0|      15.0|       1.2656|           27500.0|\n",
            "+---------+------------------+-----------+--------------+----------+----------+-------------+------------------+\n",
            "\n"
          ]
        }
      ]
    },
    {
      "cell_type": "code",
      "source": [
        "# modifying data such that nan values are introduced\n",
        "\n",
        "\n",
        "from pyspark.sql.functions import col , lit , when , monotonically_increasing_id\n",
        "data_set = data_set.withColumn(\"index\" , monotonically_increasing_id())\n",
        "\n",
        "import random\n",
        "rows_to_update = random.sample(range(data_set.count()) , 5)\n",
        "cols_to_update = random.sample(data_set.columns , 7)\n",
        "\n",
        "for row in rows_to_update:\n",
        "  for col_name in cols_to_update:\n",
        "    data_set = data_set.withColumn( col_name ,\n",
        "                                   when(col(\"index\") == lit(row) , lit(None)).otherwise(col(col_name))\n",
        "                                  )\n",
        ""
      ],
      "metadata": {
        "id": "Qm6c7Vl8YZu1"
      },
      "execution_count": 111,
      "outputs": []
    },
    {
      "cell_type": "code",
      "source": [
        "data_set.show()"
      ],
      "metadata": {
        "colab": {
          "base_uri": "https://localhost:8080/"
        },
        "id": "q66TVnGIZAtr",
        "outputId": "3c07affc-e2b9-41c9-aafc-4c3be445cb89"
      },
      "execution_count": 112,
      "outputs": [
        {
          "output_type": "stream",
          "name": "stdout",
          "text": [
            "+---------+------------------+-----------+--------------+----------+----------+-------------+------------------+-----+\n",
            "|longitude|housing_median_age|total_rooms|total_bedrooms|population|households|median_income|median_house_value|index|\n",
            "+---------+------------------+-----------+--------------+----------+----------+-------------+------------------+-----+\n",
            "|  -114.31|              15.0|     5612.0|        1283.0|    1015.0|     472.0|       1.4936|           66900.0|    0|\n",
            "|     NULL|              NULL|       NULL|          NULL|    1129.0|     463.0|         1.82|           80100.0| NULL|\n",
            "|     NULL|              NULL|       NULL|          NULL|     333.0|     117.0|       1.6509|           85700.0| NULL|\n",
            "|  -114.57|              14.0|     1501.0|         337.0|     515.0|     226.0|       3.1917|           73400.0|    3|\n",
            "|  -114.57|              20.0|     1454.0|         326.0|     624.0|     262.0|        1.925|           65500.0|    4|\n",
            "|     NULL|              NULL|       NULL|          NULL|     671.0|     239.0|       3.3438|           74000.0| NULL|\n",
            "|  -114.58|              25.0|     2907.0|         680.0|    1841.0|     633.0|       2.6768|           82400.0|    6|\n",
            "|  -114.59|              41.0|      812.0|         168.0|     375.0|     158.0|       1.7083|           48500.0|    7|\n",
            "|  -114.59|              34.0|     4789.0|        1175.0|    3134.0|    1056.0|       2.1782|           58400.0|    8|\n",
            "|   -114.6|              46.0|     1497.0|         309.0|     787.0|     271.0|       2.1908|           48100.0|    9|\n",
            "|     NULL|              NULL|       NULL|          NULL|    2434.0|     824.0|       2.6797|           86500.0| NULL|\n",
            "|   -114.6|              21.0|     1988.0|         483.0|    1182.0|     437.0|        1.625|           62000.0|   11|\n",
            "|  -114.61|              48.0|     1291.0|         248.0|     580.0|     211.0|       2.1571|           48600.0|   12|\n",
            "|  -114.61|              31.0|     2478.0|         464.0|    1346.0|     479.0|        3.212|           70400.0|   13|\n",
            "|  -114.63|              15.0|     1448.0|         378.0|     949.0|     300.0|       0.8585|           45000.0|   14|\n",
            "|  -114.65|              17.0|     2556.0|         587.0|    1005.0|     401.0|       1.6991|           69100.0|   15|\n",
            "|     NULL|              NULL|       NULL|          NULL|     666.0|     256.0|       2.9653|           94900.0| NULL|\n",
            "|  -114.65|              21.0|       44.0|          33.0|      64.0|      27.0|       0.8571|           25000.0|   17|\n",
            "|  -114.66|              17.0|     1388.0|         386.0|     775.0|     320.0|       1.2049|           44000.0|   18|\n",
            "|  -114.67|              17.0|       97.0|          24.0|      29.0|      15.0|       1.2656|           27500.0|   19|\n",
            "+---------+------------------+-----------+--------------+----------+----------+-------------+------------------+-----+\n",
            "\n"
          ]
        }
      ]
    },
    {
      "cell_type": "code",
      "source": [
        "# na values\n",
        "\n",
        "data_set.na.drop().show()"
      ],
      "metadata": {
        "colab": {
          "base_uri": "https://localhost:8080/"
        },
        "id": "T9e7N-N_WHYD",
        "outputId": "a0f9affd-6ea6-4d34-f126-2b4318de76c9"
      },
      "execution_count": 113,
      "outputs": [
        {
          "output_type": "stream",
          "name": "stdout",
          "text": [
            "+---------+------------------+-----------+--------------+----------+----------+-------------+------------------+-----+\n",
            "|longitude|housing_median_age|total_rooms|total_bedrooms|population|households|median_income|median_house_value|index|\n",
            "+---------+------------------+-----------+--------------+----------+----------+-------------+------------------+-----+\n",
            "|  -114.31|              15.0|     5612.0|        1283.0|    1015.0|     472.0|       1.4936|           66900.0|    0|\n",
            "|  -114.57|              14.0|     1501.0|         337.0|     515.0|     226.0|       3.1917|           73400.0|    3|\n",
            "|  -114.57|              20.0|     1454.0|         326.0|     624.0|     262.0|        1.925|           65500.0|    4|\n",
            "|  -114.58|              25.0|     2907.0|         680.0|    1841.0|     633.0|       2.6768|           82400.0|    6|\n",
            "|  -114.59|              41.0|      812.0|         168.0|     375.0|     158.0|       1.7083|           48500.0|    7|\n",
            "|  -114.59|              34.0|     4789.0|        1175.0|    3134.0|    1056.0|       2.1782|           58400.0|    8|\n",
            "|   -114.6|              46.0|     1497.0|         309.0|     787.0|     271.0|       2.1908|           48100.0|    9|\n",
            "|   -114.6|              21.0|     1988.0|         483.0|    1182.0|     437.0|        1.625|           62000.0|   11|\n",
            "|  -114.61|              48.0|     1291.0|         248.0|     580.0|     211.0|       2.1571|           48600.0|   12|\n",
            "|  -114.61|              31.0|     2478.0|         464.0|    1346.0|     479.0|        3.212|           70400.0|   13|\n",
            "|  -114.63|              15.0|     1448.0|         378.0|     949.0|     300.0|       0.8585|           45000.0|   14|\n",
            "|  -114.65|              17.0|     2556.0|         587.0|    1005.0|     401.0|       1.6991|           69100.0|   15|\n",
            "|  -114.65|              21.0|       44.0|          33.0|      64.0|      27.0|       0.8571|           25000.0|   17|\n",
            "|  -114.66|              17.0|     1388.0|         386.0|     775.0|     320.0|       1.2049|           44000.0|   18|\n",
            "|  -114.67|              17.0|       97.0|          24.0|      29.0|      15.0|       1.2656|           27500.0|   19|\n",
            "+---------+------------------+-----------+--------------+----------+----------+-------------+------------------+-----+\n",
            "\n"
          ]
        }
      ]
    },
    {
      "cell_type": "code",
      "source": [
        "data_set.na.drop(how='all').show() # without threshold"
      ],
      "metadata": {
        "colab": {
          "base_uri": "https://localhost:8080/"
        },
        "id": "1zOef5T5WZmj",
        "outputId": "b4286e04-f964-48d7-e763-bbc6bad2942d"
      },
      "execution_count": 114,
      "outputs": [
        {
          "output_type": "stream",
          "name": "stdout",
          "text": [
            "+---------+------------------+-----------+--------------+----------+----------+-------------+------------------+-----+\n",
            "|longitude|housing_median_age|total_rooms|total_bedrooms|population|households|median_income|median_house_value|index|\n",
            "+---------+------------------+-----------+--------------+----------+----------+-------------+------------------+-----+\n",
            "|  -114.31|              15.0|     5612.0|        1283.0|    1015.0|     472.0|       1.4936|           66900.0|    0|\n",
            "|     NULL|              NULL|       NULL|          NULL|    1129.0|     463.0|         1.82|           80100.0| NULL|\n",
            "|     NULL|              NULL|       NULL|          NULL|     333.0|     117.0|       1.6509|           85700.0| NULL|\n",
            "|  -114.57|              14.0|     1501.0|         337.0|     515.0|     226.0|       3.1917|           73400.0|    3|\n",
            "|  -114.57|              20.0|     1454.0|         326.0|     624.0|     262.0|        1.925|           65500.0|    4|\n",
            "|     NULL|              NULL|       NULL|          NULL|     671.0|     239.0|       3.3438|           74000.0| NULL|\n",
            "|  -114.58|              25.0|     2907.0|         680.0|    1841.0|     633.0|       2.6768|           82400.0|    6|\n",
            "|  -114.59|              41.0|      812.0|         168.0|     375.0|     158.0|       1.7083|           48500.0|    7|\n",
            "|  -114.59|              34.0|     4789.0|        1175.0|    3134.0|    1056.0|       2.1782|           58400.0|    8|\n",
            "|   -114.6|              46.0|     1497.0|         309.0|     787.0|     271.0|       2.1908|           48100.0|    9|\n",
            "|     NULL|              NULL|       NULL|          NULL|    2434.0|     824.0|       2.6797|           86500.0| NULL|\n",
            "|   -114.6|              21.0|     1988.0|         483.0|    1182.0|     437.0|        1.625|           62000.0|   11|\n",
            "|  -114.61|              48.0|     1291.0|         248.0|     580.0|     211.0|       2.1571|           48600.0|   12|\n",
            "|  -114.61|              31.0|     2478.0|         464.0|    1346.0|     479.0|        3.212|           70400.0|   13|\n",
            "|  -114.63|              15.0|     1448.0|         378.0|     949.0|     300.0|       0.8585|           45000.0|   14|\n",
            "|  -114.65|              17.0|     2556.0|         587.0|    1005.0|     401.0|       1.6991|           69100.0|   15|\n",
            "|     NULL|              NULL|       NULL|          NULL|     666.0|     256.0|       2.9653|           94900.0| NULL|\n",
            "|  -114.65|              21.0|       44.0|          33.0|      64.0|      27.0|       0.8571|           25000.0|   17|\n",
            "|  -114.66|              17.0|     1388.0|         386.0|     775.0|     320.0|       1.2049|           44000.0|   18|\n",
            "|  -114.67|              17.0|       97.0|          24.0|      29.0|      15.0|       1.2656|           27500.0|   19|\n",
            "+---------+------------------+-----------+--------------+----------+----------+-------------+------------------+-----+\n",
            "\n"
          ]
        }
      ]
    },
    {
      "cell_type": "code",
      "source": [
        "data_set.na.drop(how='any' , thresh= 5).show() # without threshold , rows will get deleted if the row has more than 2 non missing values"
      ],
      "metadata": {
        "colab": {
          "base_uri": "https://localhost:8080/"
        },
        "id": "MvgpQWmyW0Vn",
        "outputId": "928a301f-534a-4f93-a62d-30c24dd45cf3"
      },
      "execution_count": 119,
      "outputs": [
        {
          "output_type": "stream",
          "name": "stdout",
          "text": [
            "+---------+------------------+-----------+--------------+----------+----------+-------------+------------------+-----+\n",
            "|longitude|housing_median_age|total_rooms|total_bedrooms|population|households|median_income|median_house_value|index|\n",
            "+---------+------------------+-----------+--------------+----------+----------+-------------+------------------+-----+\n",
            "|  -114.31|              15.0|     5612.0|        1283.0|    1015.0|     472.0|       1.4936|           66900.0|    0|\n",
            "|  -114.57|              14.0|     1501.0|         337.0|     515.0|     226.0|       3.1917|           73400.0|    3|\n",
            "|  -114.57|              20.0|     1454.0|         326.0|     624.0|     262.0|        1.925|           65500.0|    4|\n",
            "|  -114.58|              25.0|     2907.0|         680.0|    1841.0|     633.0|       2.6768|           82400.0|    6|\n",
            "|  -114.59|              41.0|      812.0|         168.0|     375.0|     158.0|       1.7083|           48500.0|    7|\n",
            "|  -114.59|              34.0|     4789.0|        1175.0|    3134.0|    1056.0|       2.1782|           58400.0|    8|\n",
            "|   -114.6|              46.0|     1497.0|         309.0|     787.0|     271.0|       2.1908|           48100.0|    9|\n",
            "|   -114.6|              21.0|     1988.0|         483.0|    1182.0|     437.0|        1.625|           62000.0|   11|\n",
            "|  -114.61|              48.0|     1291.0|         248.0|     580.0|     211.0|       2.1571|           48600.0|   12|\n",
            "|  -114.61|              31.0|     2478.0|         464.0|    1346.0|     479.0|        3.212|           70400.0|   13|\n",
            "|  -114.63|              15.0|     1448.0|         378.0|     949.0|     300.0|       0.8585|           45000.0|   14|\n",
            "|  -114.65|              17.0|     2556.0|         587.0|    1005.0|     401.0|       1.6991|           69100.0|   15|\n",
            "|  -114.65|              21.0|       44.0|          33.0|      64.0|      27.0|       0.8571|           25000.0|   17|\n",
            "|  -114.66|              17.0|     1388.0|         386.0|     775.0|     320.0|       1.2049|           44000.0|   18|\n",
            "|  -114.67|              17.0|       97.0|          24.0|      29.0|      15.0|       1.2656|           27500.0|   19|\n",
            "+---------+------------------+-----------+--------------+----------+----------+-------------+------------------+-----+\n",
            "\n"
          ]
        }
      ]
    },
    {
      "cell_type": "code",
      "source": [
        "data_set.na.drop(how = 'all').show()"
      ],
      "metadata": {
        "colab": {
          "base_uri": "https://localhost:8080/"
        },
        "id": "xrhWfc3XWoMo",
        "outputId": "e27b9cbf-9548-4612-ea1d-e40a01258dc4"
      },
      "execution_count": 120,
      "outputs": [
        {
          "output_type": "stream",
          "name": "stdout",
          "text": [
            "+---------+------------------+-----------+--------------+----------+----------+-------------+------------------+-----+\n",
            "|longitude|housing_median_age|total_rooms|total_bedrooms|population|households|median_income|median_house_value|index|\n",
            "+---------+------------------+-----------+--------------+----------+----------+-------------+------------------+-----+\n",
            "|  -114.31|              15.0|     5612.0|        1283.0|    1015.0|     472.0|       1.4936|           66900.0|    0|\n",
            "|     NULL|              NULL|       NULL|          NULL|    1129.0|     463.0|         1.82|           80100.0| NULL|\n",
            "|     NULL|              NULL|       NULL|          NULL|     333.0|     117.0|       1.6509|           85700.0| NULL|\n",
            "|  -114.57|              14.0|     1501.0|         337.0|     515.0|     226.0|       3.1917|           73400.0|    3|\n",
            "|  -114.57|              20.0|     1454.0|         326.0|     624.0|     262.0|        1.925|           65500.0|    4|\n",
            "|     NULL|              NULL|       NULL|          NULL|     671.0|     239.0|       3.3438|           74000.0| NULL|\n",
            "|  -114.58|              25.0|     2907.0|         680.0|    1841.0|     633.0|       2.6768|           82400.0|    6|\n",
            "|  -114.59|              41.0|      812.0|         168.0|     375.0|     158.0|       1.7083|           48500.0|    7|\n",
            "|  -114.59|              34.0|     4789.0|        1175.0|    3134.0|    1056.0|       2.1782|           58400.0|    8|\n",
            "|   -114.6|              46.0|     1497.0|         309.0|     787.0|     271.0|       2.1908|           48100.0|    9|\n",
            "|     NULL|              NULL|       NULL|          NULL|    2434.0|     824.0|       2.6797|           86500.0| NULL|\n",
            "|   -114.6|              21.0|     1988.0|         483.0|    1182.0|     437.0|        1.625|           62000.0|   11|\n",
            "|  -114.61|              48.0|     1291.0|         248.0|     580.0|     211.0|       2.1571|           48600.0|   12|\n",
            "|  -114.61|              31.0|     2478.0|         464.0|    1346.0|     479.0|        3.212|           70400.0|   13|\n",
            "|  -114.63|              15.0|     1448.0|         378.0|     949.0|     300.0|       0.8585|           45000.0|   14|\n",
            "|  -114.65|              17.0|     2556.0|         587.0|    1005.0|     401.0|       1.6991|           69100.0|   15|\n",
            "|     NULL|              NULL|       NULL|          NULL|     666.0|     256.0|       2.9653|           94900.0| NULL|\n",
            "|  -114.65|              21.0|       44.0|          33.0|      64.0|      27.0|       0.8571|           25000.0|   17|\n",
            "|  -114.66|              17.0|     1388.0|         386.0|     775.0|     320.0|       1.2049|           44000.0|   18|\n",
            "|  -114.67|              17.0|       97.0|          24.0|      29.0|      15.0|       1.2656|           27500.0|   19|\n",
            "+---------+------------------+-----------+--------------+----------+----------+-------------+------------------+-----+\n",
            "\n"
          ]
        }
      ]
    },
    {
      "cell_type": "code",
      "source": [
        "# when you want to delete rows wrt data values from a specific column\n",
        "\n",
        "data_set.na.drop(how = 'any' , subset= ['total_bedrooms']).show()"
      ],
      "metadata": {
        "colab": {
          "base_uri": "https://localhost:8080/"
        },
        "id": "Y5vLm4ozWrNC",
        "outputId": "36465333-619b-4b54-9437-3d133c1e9fc7"
      },
      "execution_count": 121,
      "outputs": [
        {
          "output_type": "stream",
          "name": "stdout",
          "text": [
            "+---------+------------------+-----------+--------------+----------+----------+-------------+------------------+-----+\n",
            "|longitude|housing_median_age|total_rooms|total_bedrooms|population|households|median_income|median_house_value|index|\n",
            "+---------+------------------+-----------+--------------+----------+----------+-------------+------------------+-----+\n",
            "|  -114.31|              15.0|     5612.0|        1283.0|    1015.0|     472.0|       1.4936|           66900.0|    0|\n",
            "|  -114.57|              14.0|     1501.0|         337.0|     515.0|     226.0|       3.1917|           73400.0|    3|\n",
            "|  -114.57|              20.0|     1454.0|         326.0|     624.0|     262.0|        1.925|           65500.0|    4|\n",
            "|  -114.58|              25.0|     2907.0|         680.0|    1841.0|     633.0|       2.6768|           82400.0|    6|\n",
            "|  -114.59|              41.0|      812.0|         168.0|     375.0|     158.0|       1.7083|           48500.0|    7|\n",
            "|  -114.59|              34.0|     4789.0|        1175.0|    3134.0|    1056.0|       2.1782|           58400.0|    8|\n",
            "|   -114.6|              46.0|     1497.0|         309.0|     787.0|     271.0|       2.1908|           48100.0|    9|\n",
            "|   -114.6|              21.0|     1988.0|         483.0|    1182.0|     437.0|        1.625|           62000.0|   11|\n",
            "|  -114.61|              48.0|     1291.0|         248.0|     580.0|     211.0|       2.1571|           48600.0|   12|\n",
            "|  -114.61|              31.0|     2478.0|         464.0|    1346.0|     479.0|        3.212|           70400.0|   13|\n",
            "|  -114.63|              15.0|     1448.0|         378.0|     949.0|     300.0|       0.8585|           45000.0|   14|\n",
            "|  -114.65|              17.0|     2556.0|         587.0|    1005.0|     401.0|       1.6991|           69100.0|   15|\n",
            "|  -114.65|              21.0|       44.0|          33.0|      64.0|      27.0|       0.8571|           25000.0|   17|\n",
            "|  -114.66|              17.0|     1388.0|         386.0|     775.0|     320.0|       1.2049|           44000.0|   18|\n",
            "|  -114.67|              17.0|       97.0|          24.0|      29.0|      15.0|       1.2656|           27500.0|   19|\n",
            "+---------+------------------+-----------+--------------+----------+----------+-------------+------------------+-----+\n",
            "\n"
          ]
        }
      ]
    },
    {
      "cell_type": "code",
      "source": [
        "# fill the missing values   # not working\n",
        "# SHOULD HAVE UPDATES THE NULL VALUES WITH MISSING VALUES BUT DIDNT\n",
        "data_set.na.fill('MISSING VALUE' , ['total_bedrooms']).show()"
      ],
      "metadata": {
        "colab": {
          "base_uri": "https://localhost:8080/"
        },
        "id": "Xf4nbvjVX9h1",
        "outputId": "63bbd100-dd2f-4589-b24e-9bf86258e061"
      },
      "execution_count": 128,
      "outputs": [
        {
          "output_type": "stream",
          "name": "stdout",
          "text": [
            "+---------+------------------+-----------+--------------+----------+----------+-------------+------------------+-----+\n",
            "|longitude|housing_median_age|total_rooms|total_bedrooms|population|households|median_income|median_house_value|index|\n",
            "+---------+------------------+-----------+--------------+----------+----------+-------------+------------------+-----+\n",
            "|  -114.31|              15.0|     5612.0|        1283.0|    1015.0|     472.0|       1.4936|           66900.0|    0|\n",
            "|     NULL|              NULL|       NULL|          NULL|    1129.0|     463.0|         1.82|           80100.0| NULL|\n",
            "|     NULL|              NULL|       NULL|          NULL|     333.0|     117.0|       1.6509|           85700.0| NULL|\n",
            "|  -114.57|              14.0|     1501.0|         337.0|     515.0|     226.0|       3.1917|           73400.0|    3|\n",
            "|  -114.57|              20.0|     1454.0|         326.0|     624.0|     262.0|        1.925|           65500.0|    4|\n",
            "|     NULL|              NULL|       NULL|          NULL|     671.0|     239.0|       3.3438|           74000.0| NULL|\n",
            "|  -114.58|              25.0|     2907.0|         680.0|    1841.0|     633.0|       2.6768|           82400.0|    6|\n",
            "|  -114.59|              41.0|      812.0|         168.0|     375.0|     158.0|       1.7083|           48500.0|    7|\n",
            "|  -114.59|              34.0|     4789.0|        1175.0|    3134.0|    1056.0|       2.1782|           58400.0|    8|\n",
            "|   -114.6|              46.0|     1497.0|         309.0|     787.0|     271.0|       2.1908|           48100.0|    9|\n",
            "|     NULL|              NULL|       NULL|          NULL|    2434.0|     824.0|       2.6797|           86500.0| NULL|\n",
            "|   -114.6|              21.0|     1988.0|         483.0|    1182.0|     437.0|        1.625|           62000.0|   11|\n",
            "|  -114.61|              48.0|     1291.0|         248.0|     580.0|     211.0|       2.1571|           48600.0|   12|\n",
            "|  -114.61|              31.0|     2478.0|         464.0|    1346.0|     479.0|        3.212|           70400.0|   13|\n",
            "|  -114.63|              15.0|     1448.0|         378.0|     949.0|     300.0|       0.8585|           45000.0|   14|\n",
            "|  -114.65|              17.0|     2556.0|         587.0|    1005.0|     401.0|       1.6991|           69100.0|   15|\n",
            "|     NULL|              NULL|       NULL|          NULL|     666.0|     256.0|       2.9653|           94900.0| NULL|\n",
            "|  -114.65|              21.0|       44.0|          33.0|      64.0|      27.0|       0.8571|           25000.0|   17|\n",
            "|  -114.66|              17.0|     1388.0|         386.0|     775.0|     320.0|       1.2049|           44000.0|   18|\n",
            "|  -114.67|              17.0|       97.0|          24.0|      29.0|      15.0|       1.2656|           27500.0|   19|\n",
            "+---------+------------------+-----------+--------------+----------+----------+-------------+------------------+-----+\n",
            "\n"
          ]
        }
      ]
    },
    {
      "cell_type": "code",
      "source": [
        "# data imputation\n",
        "\n",
        "from pyspark.ml.feature import Imputer\n",
        "imputer = Imputer( inputCols=['longitude','housing_median_age'],\n",
        "                  outputCols=['Imp_longitude','Imp_housing_median_age']\n",
        "                   ).setStrategy('mean')"
      ],
      "metadata": {
        "id": "Ahyn8-nReh0E"
      },
      "execution_count": 129,
      "outputs": []
    },
    {
      "cell_type": "code",
      "source": [
        "imputer.fit(data_set).transform(data_set).show()"
      ],
      "metadata": {
        "colab": {
          "base_uri": "https://localhost:8080/"
        },
        "id": "zvBt9oJCgtFl",
        "outputId": "781f872b-23df-4974-9b7a-0eeda7cec046"
      },
      "execution_count": 131,
      "outputs": [
        {
          "output_type": "stream",
          "name": "stdout",
          "text": [
            "+---------+------------------+-----------+--------------+----------+----------+-------------+------------------+-----+-------------------+----------------------+\n",
            "|longitude|housing_median_age|total_rooms|total_bedrooms|population|households|median_income|median_house_value|index|      Imp_longitude|Imp_housing_median_age|\n",
            "+---------+------------------+-----------+--------------+----------+----------+-------------+------------------+-----+-------------------+----------------------+\n",
            "|  -114.31|              15.0|     5612.0|        1283.0|    1015.0|     472.0|       1.4936|           66900.0|    0|            -114.31|                  15.0|\n",
            "|     NULL|              NULL|       NULL|          NULL|    1129.0|     463.0|         1.82|           80100.0| NULL|-114.59266666666667|    25.466666666666665|\n",
            "|     NULL|              NULL|       NULL|          NULL|     333.0|     117.0|       1.6509|           85700.0| NULL|-114.59266666666667|    25.466666666666665|\n",
            "|  -114.57|              14.0|     1501.0|         337.0|     515.0|     226.0|       3.1917|           73400.0|    3|            -114.57|                  14.0|\n",
            "|  -114.57|              20.0|     1454.0|         326.0|     624.0|     262.0|        1.925|           65500.0|    4|            -114.57|                  20.0|\n",
            "|     NULL|              NULL|       NULL|          NULL|     671.0|     239.0|       3.3438|           74000.0| NULL|-114.59266666666667|    25.466666666666665|\n",
            "|  -114.58|              25.0|     2907.0|         680.0|    1841.0|     633.0|       2.6768|           82400.0|    6|            -114.58|                  25.0|\n",
            "|  -114.59|              41.0|      812.0|         168.0|     375.0|     158.0|       1.7083|           48500.0|    7|            -114.59|                  41.0|\n",
            "|  -114.59|              34.0|     4789.0|        1175.0|    3134.0|    1056.0|       2.1782|           58400.0|    8|            -114.59|                  34.0|\n",
            "|   -114.6|              46.0|     1497.0|         309.0|     787.0|     271.0|       2.1908|           48100.0|    9|             -114.6|                  46.0|\n",
            "|     NULL|              NULL|       NULL|          NULL|    2434.0|     824.0|       2.6797|           86500.0| NULL|-114.59266666666667|    25.466666666666665|\n",
            "|   -114.6|              21.0|     1988.0|         483.0|    1182.0|     437.0|        1.625|           62000.0|   11|             -114.6|                  21.0|\n",
            "|  -114.61|              48.0|     1291.0|         248.0|     580.0|     211.0|       2.1571|           48600.0|   12|            -114.61|                  48.0|\n",
            "|  -114.61|              31.0|     2478.0|         464.0|    1346.0|     479.0|        3.212|           70400.0|   13|            -114.61|                  31.0|\n",
            "|  -114.63|              15.0|     1448.0|         378.0|     949.0|     300.0|       0.8585|           45000.0|   14|            -114.63|                  15.0|\n",
            "|  -114.65|              17.0|     2556.0|         587.0|    1005.0|     401.0|       1.6991|           69100.0|   15|            -114.65|                  17.0|\n",
            "|     NULL|              NULL|       NULL|          NULL|     666.0|     256.0|       2.9653|           94900.0| NULL|-114.59266666666667|    25.466666666666665|\n",
            "|  -114.65|              21.0|       44.0|          33.0|      64.0|      27.0|       0.8571|           25000.0|   17|            -114.65|                  21.0|\n",
            "|  -114.66|              17.0|     1388.0|         386.0|     775.0|     320.0|       1.2049|           44000.0|   18|            -114.66|                  17.0|\n",
            "|  -114.67|              17.0|       97.0|          24.0|      29.0|      15.0|       1.2656|           27500.0|   19|            -114.67|                  17.0|\n",
            "+---------+------------------+-----------+--------------+----------+----------+-------------+------------------+-----+-------------------+----------------------+\n",
            "\n"
          ]
        }
      ]
    },
    {
      "cell_type": "markdown",
      "source": [
        "# tutorial 4 :\n",
        "\n",
        "- Filter Operation\n",
        "- &,==\n",
        "- ~"
      ],
      "metadata": {
        "id": "hNQvGzER9JiE"
      }
    },
    {
      "cell_type": "code",
      "source": [
        "!pip install pyspark"
      ],
      "metadata": {
        "colab": {
          "base_uri": "https://localhost:8080/"
        },
        "id": "cZQBrSNz9WWP",
        "outputId": "7378dd93-087c-4855-d830-891827bcf54a"
      },
      "execution_count": 2,
      "outputs": [
        {
          "output_type": "stream",
          "name": "stdout",
          "text": [
            "Collecting pyspark\n",
            "  Downloading pyspark-3.5.1.tar.gz (317.0 MB)\n",
            "\u001b[2K     \u001b[90m━━━━━━━━━━━━━━━━━━━━━━━━━━━━━━━━━━━━━━━━\u001b[0m \u001b[32m317.0/317.0 MB\u001b[0m \u001b[31m1.5 MB/s\u001b[0m eta \u001b[36m0:00:00\u001b[0m\n",
            "\u001b[?25h  Preparing metadata (setup.py) ... \u001b[?25l\u001b[?25hdone\n",
            "Requirement already satisfied: py4j==0.10.9.7 in /usr/local/lib/python3.10/dist-packages (from pyspark) (0.10.9.7)\n",
            "Building wheels for collected packages: pyspark\n",
            "  Building wheel for pyspark (setup.py) ... \u001b[?25l\u001b[?25hdone\n",
            "  Created wheel for pyspark: filename=pyspark-3.5.1-py2.py3-none-any.whl size=317488491 sha256=a41609cc0d52ccc7b9c67aac9eeb8cdc679a154fc65cb438b8971017c926d8e9\n",
            "  Stored in directory: /root/.cache/pip/wheels/80/1d/60/2c256ed38dddce2fdd93be545214a63e02fbd8d74fb0b7f3a6\n",
            "Successfully built pyspark\n",
            "Installing collected packages: pyspark\n",
            "Successfully installed pyspark-3.5.1\n"
          ]
        }
      ]
    },
    {
      "cell_type": "code",
      "source": [
        "import pyspark"
      ],
      "metadata": {
        "id": "oQnkbZFMgxlD"
      },
      "execution_count": 4,
      "outputs": []
    },
    {
      "cell_type": "code",
      "source": [
        "from pyspark.sql import SparkSession\n",
        "spark = SparkSession.builder.appName('DataOperations').getOrCreate()\n",
        "data_set = spark.read.csv('sample_data/california_housing_train.csv' , header = True , inferSchema = True)\n",
        "data_set.show()"
      ],
      "metadata": {
        "colab": {
          "base_uri": "https://localhost:8080/"
        },
        "id": "t_M6YP_T9VFU",
        "outputId": "402ff382-aaed-4ad1-ddcc-9d75f56e74e7"
      },
      "execution_count": 5,
      "outputs": [
        {
          "output_type": "stream",
          "name": "stdout",
          "text": [
            "+---------+--------+------------------+-----------+--------------+----------+----------+-------------+------------------+\n",
            "|longitude|latitude|housing_median_age|total_rooms|total_bedrooms|population|households|median_income|median_house_value|\n",
            "+---------+--------+------------------+-----------+--------------+----------+----------+-------------+------------------+\n",
            "|  -114.31|   34.19|              15.0|     5612.0|        1283.0|    1015.0|     472.0|       1.4936|           66900.0|\n",
            "|  -114.47|    34.4|              19.0|     7650.0|        1901.0|    1129.0|     463.0|         1.82|           80100.0|\n",
            "|  -114.56|   33.69|              17.0|      720.0|         174.0|     333.0|     117.0|       1.6509|           85700.0|\n",
            "|  -114.57|   33.64|              14.0|     1501.0|         337.0|     515.0|     226.0|       3.1917|           73400.0|\n",
            "|  -114.57|   33.57|              20.0|     1454.0|         326.0|     624.0|     262.0|        1.925|           65500.0|\n",
            "|  -114.58|   33.63|              29.0|     1387.0|         236.0|     671.0|     239.0|       3.3438|           74000.0|\n",
            "|  -114.58|   33.61|              25.0|     2907.0|         680.0|    1841.0|     633.0|       2.6768|           82400.0|\n",
            "|  -114.59|   34.83|              41.0|      812.0|         168.0|     375.0|     158.0|       1.7083|           48500.0|\n",
            "|  -114.59|   33.61|              34.0|     4789.0|        1175.0|    3134.0|    1056.0|       2.1782|           58400.0|\n",
            "|   -114.6|   34.83|              46.0|     1497.0|         309.0|     787.0|     271.0|       2.1908|           48100.0|\n",
            "|   -114.6|   33.62|              16.0|     3741.0|         801.0|    2434.0|     824.0|       2.6797|           86500.0|\n",
            "|   -114.6|    33.6|              21.0|     1988.0|         483.0|    1182.0|     437.0|        1.625|           62000.0|\n",
            "|  -114.61|   34.84|              48.0|     1291.0|         248.0|     580.0|     211.0|       2.1571|           48600.0|\n",
            "|  -114.61|   34.83|              31.0|     2478.0|         464.0|    1346.0|     479.0|        3.212|           70400.0|\n",
            "|  -114.63|   32.76|              15.0|     1448.0|         378.0|     949.0|     300.0|       0.8585|           45000.0|\n",
            "|  -114.65|   34.89|              17.0|     2556.0|         587.0|    1005.0|     401.0|       1.6991|           69100.0|\n",
            "|  -114.65|    33.6|              28.0|     1678.0|         322.0|     666.0|     256.0|       2.9653|           94900.0|\n",
            "|  -114.65|   32.79|              21.0|       44.0|          33.0|      64.0|      27.0|       0.8571|           25000.0|\n",
            "|  -114.66|   32.74|              17.0|     1388.0|         386.0|     775.0|     320.0|       1.2049|           44000.0|\n",
            "|  -114.67|   33.92|              17.0|       97.0|          24.0|      29.0|      15.0|       1.2656|           27500.0|\n",
            "+---------+--------+------------------+-----------+--------------+----------+----------+-------------+------------------+\n",
            "only showing top 20 rows\n",
            "\n"
          ]
        }
      ]
    },
    {
      "cell_type": "code",
      "source": [
        "data_set.filter(\"total_rooms <1000\").show()"
      ],
      "metadata": {
        "colab": {
          "base_uri": "https://localhost:8080/"
        },
        "id": "nHU3YMf7-wGq",
        "outputId": "7d4d3847-bda0-43c1-f86a-4caf5de28723"
      },
      "execution_count": 6,
      "outputs": [
        {
          "output_type": "stream",
          "name": "stdout",
          "text": [
            "+---------+--------+------------------+-----------+--------------+----------+----------+-------------+------------------+\n",
            "|longitude|latitude|housing_median_age|total_rooms|total_bedrooms|population|households|median_income|median_house_value|\n",
            "+---------+--------+------------------+-----------+--------------+----------+----------+-------------+------------------+\n",
            "|  -114.56|   33.69|              17.0|      720.0|         174.0|     333.0|     117.0|       1.6509|           85700.0|\n",
            "|  -114.59|   34.83|              41.0|      812.0|         168.0|     375.0|     158.0|       1.7083|           48500.0|\n",
            "|  -114.65|   32.79|              21.0|       44.0|          33.0|      64.0|      27.0|       0.8571|           25000.0|\n",
            "|  -114.67|   33.92|              17.0|       97.0|          24.0|      29.0|      15.0|       1.2656|           27500.0|\n",
            "|  -114.73|   33.43|              24.0|      796.0|         243.0|     227.0|     139.0|       0.8964|           59200.0|\n",
            "|  -114.94|   34.55|              20.0|      350.0|          95.0|     119.0|      58.0|        1.625|           50000.0|\n",
            "|  -114.98|   33.82|              15.0|      644.0|         129.0|     137.0|      52.0|       3.2097|           71300.0|\n",
            "|  -115.32|   32.82|              34.0|      591.0|         139.0|     327.0|      89.0|       3.6528|          100000.0|\n",
            "|  -115.37|   32.81|              32.0|      741.0|         191.0|     623.0|     169.0|       1.7604|           68600.0|\n",
            "|   -115.4|    32.7|              19.0|      583.0|         113.0|     531.0|     134.0|       1.6838|           95800.0|\n",
            "|  -115.49|   32.87|              19.0|      541.0|         104.0|     457.0|     106.0|       3.3583|          102800.0|\n",
            "|   -115.5|   32.75|              13.0|      330.0|          72.0|     822.0|      64.0|       3.4107|          142500.0|\n",
            "|  -115.52|   34.22|              30.0|      540.0|         136.0|     122.0|      63.0|       1.3333|           42500.0|\n",
            "|  -115.53|   34.91|              12.0|      807.0|         199.0|     246.0|     102.0|       2.5391|           40000.0|\n",
            "|  -115.55|    32.8|              23.0|      666.0|         142.0|     580.0|     160.0|       2.1136|           61000.0|\n",
            "|  -115.55|   32.79|              22.0|      565.0|         162.0|     692.0|     141.0|       1.2083|           53600.0|\n",
            "|  -115.58|   32.81|               5.0|      805.0|         143.0|     458.0|     143.0|        4.475|           96300.0|\n",
            "|  -115.59|   32.69|              30.0|      935.0|         177.0|     649.0|     148.0|       2.5769|           94400.0|\n",
            "|   -115.6|    33.2|              37.0|      709.0|         187.0|     390.0|     142.0|       2.4511|           72500.0|\n",
            "|  -115.72|   32.75|              16.0|      348.0|          99.0|     123.0|      54.0|       2.0938|           87500.0|\n",
            "+---------+--------+------------------+-----------+--------------+----------+----------+-------------+------------------+\n",
            "only showing top 20 rows\n",
            "\n"
          ]
        }
      ]
    },
    {
      "cell_type": "code",
      "source": [
        "data_set.filter(\"total_rooms <1000\").select(['longitude','latitude']).show()"
      ],
      "metadata": {
        "colab": {
          "base_uri": "https://localhost:8080/"
        },
        "id": "u3rqe71f_XRh",
        "outputId": "228416eb-505e-42ab-cc42-2ba506598fb9"
      },
      "execution_count": 8,
      "outputs": [
        {
          "output_type": "stream",
          "name": "stdout",
          "text": [
            "+---------+--------+\n",
            "|longitude|latitude|\n",
            "+---------+--------+\n",
            "|  -114.56|   33.69|\n",
            "|  -114.59|   34.83|\n",
            "|  -114.65|   32.79|\n",
            "|  -114.67|   33.92|\n",
            "|  -114.73|   33.43|\n",
            "|  -114.94|   34.55|\n",
            "|  -114.98|   33.82|\n",
            "|  -115.32|   32.82|\n",
            "|  -115.37|   32.81|\n",
            "|   -115.4|    32.7|\n",
            "|  -115.49|   32.87|\n",
            "|   -115.5|   32.75|\n",
            "|  -115.52|   34.22|\n",
            "|  -115.53|   34.91|\n",
            "|  -115.55|    32.8|\n",
            "|  -115.55|   32.79|\n",
            "|  -115.58|   32.81|\n",
            "|  -115.59|   32.69|\n",
            "|   -115.6|    33.2|\n",
            "|  -115.72|   32.75|\n",
            "+---------+--------+\n",
            "only showing top 20 rows\n",
            "\n"
          ]
        }
      ]
    },
    {
      "cell_type": "code",
      "source": [
        "data_set.filter(data_set['total_rooms'] > 1000).show()"
      ],
      "metadata": {
        "colab": {
          "base_uri": "https://localhost:8080/"
        },
        "id": "mVz_DNjP_r0w",
        "outputId": "f3ad4f49-ba41-442d-c7d0-38319ae540fe"
      },
      "execution_count": 11,
      "outputs": [
        {
          "output_type": "stream",
          "name": "stdout",
          "text": [
            "+---------+--------+------------------+-----------+--------------+----------+----------+-------------+------------------+\n",
            "|longitude|latitude|housing_median_age|total_rooms|total_bedrooms|population|households|median_income|median_house_value|\n",
            "+---------+--------+------------------+-----------+--------------+----------+----------+-------------+------------------+\n",
            "|  -114.31|   34.19|              15.0|     5612.0|        1283.0|    1015.0|     472.0|       1.4936|           66900.0|\n",
            "|  -114.47|    34.4|              19.0|     7650.0|        1901.0|    1129.0|     463.0|         1.82|           80100.0|\n",
            "|  -114.57|   33.64|              14.0|     1501.0|         337.0|     515.0|     226.0|       3.1917|           73400.0|\n",
            "|  -114.57|   33.57|              20.0|     1454.0|         326.0|     624.0|     262.0|        1.925|           65500.0|\n",
            "|  -114.58|   33.63|              29.0|     1387.0|         236.0|     671.0|     239.0|       3.3438|           74000.0|\n",
            "|  -114.58|   33.61|              25.0|     2907.0|         680.0|    1841.0|     633.0|       2.6768|           82400.0|\n",
            "|  -114.59|   33.61|              34.0|     4789.0|        1175.0|    3134.0|    1056.0|       2.1782|           58400.0|\n",
            "|   -114.6|   34.83|              46.0|     1497.0|         309.0|     787.0|     271.0|       2.1908|           48100.0|\n",
            "|   -114.6|   33.62|              16.0|     3741.0|         801.0|    2434.0|     824.0|       2.6797|           86500.0|\n",
            "|   -114.6|    33.6|              21.0|     1988.0|         483.0|    1182.0|     437.0|        1.625|           62000.0|\n",
            "|  -114.61|   34.84|              48.0|     1291.0|         248.0|     580.0|     211.0|       2.1571|           48600.0|\n",
            "|  -114.61|   34.83|              31.0|     2478.0|         464.0|    1346.0|     479.0|        3.212|           70400.0|\n",
            "|  -114.63|   32.76|              15.0|     1448.0|         378.0|     949.0|     300.0|       0.8585|           45000.0|\n",
            "|  -114.65|   34.89|              17.0|     2556.0|         587.0|    1005.0|     401.0|       1.6991|           69100.0|\n",
            "|  -114.65|    33.6|              28.0|     1678.0|         322.0|     666.0|     256.0|       2.9653|           94900.0|\n",
            "|  -114.66|   32.74|              17.0|     1388.0|         386.0|     775.0|     320.0|       1.2049|           44000.0|\n",
            "|  -114.68|   33.49|              20.0|     1491.0|         360.0|    1135.0|     303.0|       1.6395|           44400.0|\n",
            "|  -115.22|   33.54|              18.0|     1706.0|         397.0|    3424.0|     283.0|        1.625|           53500.0|\n",
            "|  -115.37|   32.82|              30.0|     1602.0|         322.0|    1130.0|     335.0|       3.5735|           71100.0|\n",
            "|  -115.37|   32.82|              14.0|     1276.0|         270.0|     867.0|     261.0|       1.9375|           80900.0|\n",
            "+---------+--------+------------------+-----------+--------------+----------+----------+-------------+------------------+\n",
            "only showing top 20 rows\n",
            "\n"
          ]
        }
      ]
    },
    {
      "cell_type": "code",
      "source": [
        "data_set.filter((data_set['total_rooms'] > 1000) &\n",
        "                (data_set['total_rooms'] < 1200)).show()"
      ],
      "metadata": {
        "colab": {
          "base_uri": "https://localhost:8080/"
        },
        "id": "TRNcXEepADPJ",
        "outputId": "080f4d3d-cc42-4d76-c606-4d4ee2ccb3b6"
      },
      "execution_count": 13,
      "outputs": [
        {
          "output_type": "stream",
          "name": "stdout",
          "text": [
            "+---------+--------+------------------+-----------+--------------+----------+----------+-------------+------------------+\n",
            "|longitude|latitude|housing_median_age|total_rooms|total_bedrooms|population|households|median_income|median_house_value|\n",
            "+---------+--------+------------------+-----------+--------------+----------+----------+-------------+------------------+\n",
            "|  -115.39|   32.76|              16.0|     1136.0|         196.0|     481.0|     185.0|       6.2558|          146300.0|\n",
            "|   -115.4|   32.86|              19.0|     1087.0|         171.0|     649.0|     173.0|       3.3182|          113800.0|\n",
            "|  -115.41|   32.99|              29.0|     1141.0|         220.0|     684.0|     194.0|       3.4038|          107800.0|\n",
            "|  -115.51|   33.12|              21.0|     1024.0|         218.0|     890.0|     232.0|        2.101|           46700.0|\n",
            "|  -115.52|   33.13|              18.0|     1109.0|         283.0|    1006.0|     253.0|        2.163|           53400.0|\n",
            "|  -115.52|   32.73|              17.0|     1190.0|         275.0|    1113.0|     258.0|       2.3571|           63100.0|\n",
            "|  -115.55|   32.79|              23.0|     1004.0|         221.0|     697.0|     201.0|       1.6351|           59600.0|\n",
            "|  -115.56|    32.8|              15.0|     1171.0|         328.0|    1024.0|     298.0|       1.3882|           69400.0|\n",
            "|  -115.56|   32.79|              18.0|     1178.0|         438.0|    1377.0|     429.0|       1.3373|           58300.0|\n",
            "|  -115.56|   32.78|              35.0|     1185.0|         202.0|     615.0|     191.0|       4.6154|           86200.0|\n",
            "|  -115.57|   32.85|              17.0|     1039.0|         256.0|     728.0|     246.0|       1.7411|           63500.0|\n",
            "|  -115.57|   32.79|              34.0|     1152.0|         208.0|     621.0|     208.0|       3.6042|           73600.0|\n",
            "|  -115.58|   33.88|              21.0|     1161.0|         282.0|     724.0|     186.0|       3.1827|           71700.0|\n",
            "|  -115.58|   32.81|              10.0|     1088.0|         203.0|     533.0|     201.0|       3.6597|           87500.0|\n",
            "|  -115.62|   33.04|              20.0|     1121.0|         244.0|     766.0|     230.0|       2.2969|           62000.0|\n",
            "|  -115.62|   33.04|              17.0|     1009.0|         231.0|     745.0|     217.0|       2.0463|           61200.0|\n",
            "|   -116.0|   32.74|              26.0|     1134.0|         280.0|     329.0|     158.0|       1.4338|           43900.0|\n",
            "|   -116.2|   33.63|              23.0|     1152.0|         273.0|    1077.0|     235.0|          2.5|           96300.0|\n",
            "|  -116.22|   34.21|              23.0|     1175.0|         468.0|     355.0|     151.0|       2.2083|           42500.0|\n",
            "|  -116.23|   33.73|              29.0|     1133.0|         221.0|     918.0|     239.0|       2.8648|           72100.0|\n",
            "+---------+--------+------------------+-----------+--------------+----------+----------+-------------+------------------+\n",
            "only showing top 20 rows\n",
            "\n"
          ]
        }
      ]
    },
    {
      "cell_type": "code",
      "source": [
        "data_set.filter((data_set['total_rooms'] > 1000) |\n",
        "                (data_set['total_rooms'] < 1200)).show()"
      ],
      "metadata": {
        "colab": {
          "base_uri": "https://localhost:8080/"
        },
        "id": "Okcgeev8AaEl",
        "outputId": "2bc51ab5-37e7-4bd0-e73e-976f3276b4fa"
      },
      "execution_count": 14,
      "outputs": [
        {
          "output_type": "stream",
          "name": "stdout",
          "text": [
            "+---------+--------+------------------+-----------+--------------+----------+----------+-------------+------------------+\n",
            "|longitude|latitude|housing_median_age|total_rooms|total_bedrooms|population|households|median_income|median_house_value|\n",
            "+---------+--------+------------------+-----------+--------------+----------+----------+-------------+------------------+\n",
            "|  -114.31|   34.19|              15.0|     5612.0|        1283.0|    1015.0|     472.0|       1.4936|           66900.0|\n",
            "|  -114.47|    34.4|              19.0|     7650.0|        1901.0|    1129.0|     463.0|         1.82|           80100.0|\n",
            "|  -114.56|   33.69|              17.0|      720.0|         174.0|     333.0|     117.0|       1.6509|           85700.0|\n",
            "|  -114.57|   33.64|              14.0|     1501.0|         337.0|     515.0|     226.0|       3.1917|           73400.0|\n",
            "|  -114.57|   33.57|              20.0|     1454.0|         326.0|     624.0|     262.0|        1.925|           65500.0|\n",
            "|  -114.58|   33.63|              29.0|     1387.0|         236.0|     671.0|     239.0|       3.3438|           74000.0|\n",
            "|  -114.58|   33.61|              25.0|     2907.0|         680.0|    1841.0|     633.0|       2.6768|           82400.0|\n",
            "|  -114.59|   34.83|              41.0|      812.0|         168.0|     375.0|     158.0|       1.7083|           48500.0|\n",
            "|  -114.59|   33.61|              34.0|     4789.0|        1175.0|    3134.0|    1056.0|       2.1782|           58400.0|\n",
            "|   -114.6|   34.83|              46.0|     1497.0|         309.0|     787.0|     271.0|       2.1908|           48100.0|\n",
            "|   -114.6|   33.62|              16.0|     3741.0|         801.0|    2434.0|     824.0|       2.6797|           86500.0|\n",
            "|   -114.6|    33.6|              21.0|     1988.0|         483.0|    1182.0|     437.0|        1.625|           62000.0|\n",
            "|  -114.61|   34.84|              48.0|     1291.0|         248.0|     580.0|     211.0|       2.1571|           48600.0|\n",
            "|  -114.61|   34.83|              31.0|     2478.0|         464.0|    1346.0|     479.0|        3.212|           70400.0|\n",
            "|  -114.63|   32.76|              15.0|     1448.0|         378.0|     949.0|     300.0|       0.8585|           45000.0|\n",
            "|  -114.65|   34.89|              17.0|     2556.0|         587.0|    1005.0|     401.0|       1.6991|           69100.0|\n",
            "|  -114.65|    33.6|              28.0|     1678.0|         322.0|     666.0|     256.0|       2.9653|           94900.0|\n",
            "|  -114.65|   32.79|              21.0|       44.0|          33.0|      64.0|      27.0|       0.8571|           25000.0|\n",
            "|  -114.66|   32.74|              17.0|     1388.0|         386.0|     775.0|     320.0|       1.2049|           44000.0|\n",
            "|  -114.67|   33.92|              17.0|       97.0|          24.0|      29.0|      15.0|       1.2656|           27500.0|\n",
            "+---------+--------+------------------+-----------+--------------+----------+----------+-------------+------------------+\n",
            "only showing top 20 rows\n",
            "\n"
          ]
        }
      ]
    },
    {
      "cell_type": "code",
      "source": [
        "data_set.filter(~(data_set['total_rooms'] > 1000)).show()"
      ],
      "metadata": {
        "colab": {
          "base_uri": "https://localhost:8080/"
        },
        "id": "w2sq6Ls0ArcA",
        "outputId": "86744630-d6a9-42de-c615-7a3d1cb651d3"
      },
      "execution_count": 15,
      "outputs": [
        {
          "output_type": "stream",
          "name": "stdout",
          "text": [
            "+---------+--------+------------------+-----------+--------------+----------+----------+-------------+------------------+\n",
            "|longitude|latitude|housing_median_age|total_rooms|total_bedrooms|population|households|median_income|median_house_value|\n",
            "+---------+--------+------------------+-----------+--------------+----------+----------+-------------+------------------+\n",
            "|  -114.56|   33.69|              17.0|      720.0|         174.0|     333.0|     117.0|       1.6509|           85700.0|\n",
            "|  -114.59|   34.83|              41.0|      812.0|         168.0|     375.0|     158.0|       1.7083|           48500.0|\n",
            "|  -114.65|   32.79|              21.0|       44.0|          33.0|      64.0|      27.0|       0.8571|           25000.0|\n",
            "|  -114.67|   33.92|              17.0|       97.0|          24.0|      29.0|      15.0|       1.2656|           27500.0|\n",
            "|  -114.73|   33.43|              24.0|      796.0|         243.0|     227.0|     139.0|       0.8964|           59200.0|\n",
            "|  -114.94|   34.55|              20.0|      350.0|          95.0|     119.0|      58.0|        1.625|           50000.0|\n",
            "|  -114.98|   33.82|              15.0|      644.0|         129.0|     137.0|      52.0|       3.2097|           71300.0|\n",
            "|  -115.32|   32.82|              34.0|      591.0|         139.0|     327.0|      89.0|       3.6528|          100000.0|\n",
            "|  -115.37|   32.81|              32.0|      741.0|         191.0|     623.0|     169.0|       1.7604|           68600.0|\n",
            "|   -115.4|    32.7|              19.0|      583.0|         113.0|     531.0|     134.0|       1.6838|           95800.0|\n",
            "|  -115.49|   32.87|              19.0|      541.0|         104.0|     457.0|     106.0|       3.3583|          102800.0|\n",
            "|   -115.5|   32.75|              13.0|      330.0|          72.0|     822.0|      64.0|       3.4107|          142500.0|\n",
            "|  -115.52|   34.22|              30.0|      540.0|         136.0|     122.0|      63.0|       1.3333|           42500.0|\n",
            "|  -115.53|   34.91|              12.0|      807.0|         199.0|     246.0|     102.0|       2.5391|           40000.0|\n",
            "|  -115.55|    32.8|              23.0|      666.0|         142.0|     580.0|     160.0|       2.1136|           61000.0|\n",
            "|  -115.55|   32.79|              22.0|      565.0|         162.0|     692.0|     141.0|       1.2083|           53600.0|\n",
            "|  -115.58|   32.81|               5.0|      805.0|         143.0|     458.0|     143.0|        4.475|           96300.0|\n",
            "|  -115.59|   32.69|              30.0|      935.0|         177.0|     649.0|     148.0|       2.5769|           94400.0|\n",
            "|   -115.6|    33.2|              37.0|      709.0|         187.0|     390.0|     142.0|       2.4511|           72500.0|\n",
            "|  -115.72|   32.75|              16.0|      348.0|          99.0|     123.0|      54.0|       2.0938|           87500.0|\n",
            "+---------+--------+------------------+-----------+--------------+----------+----------+-------------+------------------+\n",
            "only showing top 20 rows\n",
            "\n"
          ]
        }
      ]
    },
    {
      "cell_type": "markdown",
      "source": [
        "# Group By and Aggregate"
      ],
      "metadata": {
        "id": "0xNNIzrtBPDr"
      }
    },
    {
      "cell_type": "code",
      "source": [
        "data_set.groupBy('longitude').sum('median_income').show()"
      ],
      "metadata": {
        "colab": {
          "base_uri": "https://localhost:8080/"
        },
        "id": "FLbuDUYXA9pJ",
        "outputId": "1cd37136-8b81-4b1a-a979-1bf94b8e24eb"
      },
      "execution_count": 19,
      "outputs": [
        {
          "output_type": "stream",
          "name": "stdout",
          "text": [
            "+---------+------------------+\n",
            "|longitude|sum(median_income)|\n",
            "+---------+------------------+\n",
            "|  -119.04|           50.8801|\n",
            "|  -121.27|122.04979999999999|\n",
            "|  -122.61|           48.6802|\n",
            "|  -116.06|            3.5837|\n",
            "|  -117.55| 61.59440000000001|\n",
            "|  -119.07|           30.3679|\n",
            "|   -120.3|13.701899999999998|\n",
            "|  -120.88|           24.7718|\n",
            "|  -121.22| 91.09459999999999|\n",
            "|  -122.02|316.76179999999994|\n",
            "|  -122.68|            46.937|\n",
            "|  -115.59|           13.8333|\n",
            "|  -115.73| 8.094199999999999|\n",
            "|  -116.99|117.14169999999999|\n",
            "|  -117.17|155.49909999999997|\n",
            "|  -117.94|248.36859999999996|\n",
            "|  -118.66|48.807500000000005|\n",
            "|  -120.73|            2.8698|\n",
            "|  -124.21|            6.2397|\n",
            "|  -116.83|            8.1663|\n",
            "+---------+------------------+\n",
            "only showing top 20 rows\n",
            "\n"
          ]
        }
      ]
    },
    {
      "cell_type": "code",
      "source": [
        "data_set.groupBy('longitude').mean('median_income').show()"
      ],
      "metadata": {
        "colab": {
          "base_uri": "https://localhost:8080/"
        },
        "id": "AUUu4CbQCXXE",
        "outputId": "6b896f6d-63da-4480-e28f-5d02cc66c7bf"
      },
      "execution_count": 20,
      "outputs": [
        {
          "output_type": "stream",
          "name": "stdout",
          "text": [
            "+---------+------------------+\n",
            "|longitude|avg(median_income)|\n",
            "+---------+------------------+\n",
            "|  -119.04| 2.992947058823529|\n",
            "|  -121.27| 2.976824390243902|\n",
            "|  -122.61|4.4254727272727274|\n",
            "|  -116.06|           1.79185|\n",
            "|  -117.55|            4.3996|\n",
            "|  -119.07| 3.374211111111111|\n",
            "|   -120.3|2.7403799999999996|\n",
            "|  -120.88| 3.538828571428571|\n",
            "|  -121.22|3.3738740740740734|\n",
            "|  -122.02| 5.192816393442622|\n",
            "|  -122.68|3.9114166666666663|\n",
            "|  -115.59|4.6110999999999995|\n",
            "|  -115.73|2.0235499999999997|\n",
            "|  -116.99|3.9047233333333327|\n",
            "|  -117.17| 3.616258139534883|\n",
            "|  -117.94| 4.435153571428571|\n",
            "|  -118.66| 6.972500000000001|\n",
            "|  -120.73|            2.8698|\n",
            "|  -124.21|            2.0799|\n",
            "|  -116.83|           4.08315|\n",
            "+---------+------------------+\n",
            "only showing top 20 rows\n",
            "\n"
          ]
        }
      ]
    },
    {
      "cell_type": "code",
      "source": [
        "data_set.groupBy('longitude').max('median_income').show()"
      ],
      "metadata": {
        "colab": {
          "base_uri": "https://localhost:8080/"
        },
        "id": "-jK26FGhC-sB",
        "outputId": "63483da7-1a56-4782-b146-285a73e79450"
      },
      "execution_count": 23,
      "outputs": [
        {
          "output_type": "stream",
          "name": "stdout",
          "text": [
            "+---------+------------------+\n",
            "|longitude|max(median_income)|\n",
            "+---------+------------------+\n",
            "|  -119.04|            5.9316|\n",
            "|  -121.27|            6.1872|\n",
            "|  -122.61|            6.9081|\n",
            "|  -116.06|            2.2466|\n",
            "|  -117.55|            5.9333|\n",
            "|  -119.07|            4.8839|\n",
            "|   -120.3|            4.5461|\n",
            "|  -120.88|            5.3168|\n",
            "|  -121.22|            6.3914|\n",
            "|  -122.02|           10.6834|\n",
            "|  -122.68|            7.3003|\n",
            "|  -115.59|            6.3814|\n",
            "|  -115.73|               2.9|\n",
            "|  -116.99|            6.2787|\n",
            "|  -117.17|            7.3669|\n",
            "|  -117.94|            9.7956|\n",
            "|  -118.66|            10.076|\n",
            "|  -120.73|            2.8698|\n",
            "|  -124.21|            2.5795|\n",
            "|  -116.83|            5.4288|\n",
            "+---------+------------------+\n",
            "only showing top 20 rows\n",
            "\n"
          ]
        }
      ]
    },
    {
      "cell_type": "code",
      "source": [
        "data_set.groupBy('longitude').count().show()"
      ],
      "metadata": {
        "colab": {
          "base_uri": "https://localhost:8080/"
        },
        "id": "Ega7LXYFCxEv",
        "outputId": "c27b2fd9-4c8f-4eef-d7ee-351c095e5169"
      },
      "execution_count": 22,
      "outputs": [
        {
          "output_type": "stream",
          "name": "stdout",
          "text": [
            "+---------+-----+\n",
            "|longitude|count|\n",
            "+---------+-----+\n",
            "|  -119.04|   17|\n",
            "|  -121.27|   41|\n",
            "|  -122.61|   11|\n",
            "|  -116.06|    2|\n",
            "|  -117.55|   14|\n",
            "|  -119.07|    9|\n",
            "|   -120.3|    5|\n",
            "|  -120.88|    7|\n",
            "|  -121.22|   27|\n",
            "|  -122.02|   61|\n",
            "|  -122.68|   12|\n",
            "|  -115.59|    3|\n",
            "|  -115.73|    4|\n",
            "|  -116.99|   30|\n",
            "|  -117.17|   43|\n",
            "|  -117.94|   56|\n",
            "|  -118.66|    7|\n",
            "|  -120.73|    1|\n",
            "|  -124.21|    3|\n",
            "|  -116.83|    2|\n",
            "+---------+-----+\n",
            "only showing top 20 rows\n",
            "\n"
          ]
        }
      ]
    },
    {
      "cell_type": "code",
      "source": [
        "data_set.agg({'median_income' : 'sum'}).show()"
      ],
      "metadata": {
        "colab": {
          "base_uri": "https://localhost:8080/"
        },
        "id": "g_nNLElYC0vv",
        "outputId": "ddb271e9-d876-4f31-9886-83e4212a90e5"
      },
      "execution_count": 24,
      "outputs": [
        {
          "output_type": "stream",
          "name": "stdout",
          "text": [
            "+------------------+\n",
            "|sum(median_income)|\n",
            "+------------------+\n",
            "| 66020.82770000036|\n",
            "+------------------+\n",
            "\n"
          ]
        }
      ]
    },
    {
      "cell_type": "markdown",
      "source": [
        "# ML"
      ],
      "metadata": {
        "id": "RsbtZ9VBLIEt"
      }
    },
    {
      "cell_type": "code",
      "source": [
        "import pyspark\n",
        "from pyspark.sql import SparkSession\n",
        "spark = SparkSession.builder.appName('ML').getOrCreate()\n",
        "spark"
      ],
      "metadata": {
        "colab": {
          "base_uri": "https://localhost:8080/",
          "height": 219
        },
        "id": "SlExL1vaDbfm",
        "outputId": "d4dedb9e-8e61-4103-8eab-7595ca29c8a9"
      },
      "execution_count": 41,
      "outputs": [
        {
          "output_type": "execute_result",
          "data": {
            "text/plain": [
              "<pyspark.sql.session.SparkSession at 0x7840e60eb640>"
            ],
            "text/html": [
              "\n",
              "            <div>\n",
              "                <p><b>SparkSession - in-memory</b></p>\n",
              "                \n",
              "        <div>\n",
              "            <p><b>SparkContext</b></p>\n",
              "\n",
              "            <p><a href=\"http://f8b0c471068e:4040\">Spark UI</a></p>\n",
              "\n",
              "            <dl>\n",
              "              <dt>Version</dt>\n",
              "                <dd><code>v3.5.1</code></dd>\n",
              "              <dt>Master</dt>\n",
              "                <dd><code>local[*]</code></dd>\n",
              "              <dt>AppName</dt>\n",
              "                <dd><code>DataOperations</code></dd>\n",
              "            </dl>\n",
              "        </div>\n",
              "        \n",
              "            </div>\n",
              "        "
            ]
          },
          "metadata": {},
          "execution_count": 41
        }
      ]
    },
    {
      "cell_type": "code",
      "source": [
        "data_set = spark.read.csv('sample_data/california_housing_train.csv' , header = True , inferSchema = True)\n",
        "data_set.show()"
      ],
      "metadata": {
        "colab": {
          "base_uri": "https://localhost:8080/"
        },
        "id": "aM_0c5-BLcKi",
        "outputId": "09c5ef4c-79c9-42d5-ff9c-50ae80a79721"
      },
      "execution_count": 42,
      "outputs": [
        {
          "output_type": "stream",
          "name": "stdout",
          "text": [
            "+---------+--------+------------------+-----------+--------------+----------+----------+-------------+------------------+\n",
            "|longitude|latitude|housing_median_age|total_rooms|total_bedrooms|population|households|median_income|median_house_value|\n",
            "+---------+--------+------------------+-----------+--------------+----------+----------+-------------+------------------+\n",
            "|  -114.31|   34.19|              15.0|     5612.0|        1283.0|    1015.0|     472.0|       1.4936|           66900.0|\n",
            "|  -114.47|    34.4|              19.0|     7650.0|        1901.0|    1129.0|     463.0|         1.82|           80100.0|\n",
            "|  -114.56|   33.69|              17.0|      720.0|         174.0|     333.0|     117.0|       1.6509|           85700.0|\n",
            "|  -114.57|   33.64|              14.0|     1501.0|         337.0|     515.0|     226.0|       3.1917|           73400.0|\n",
            "|  -114.57|   33.57|              20.0|     1454.0|         326.0|     624.0|     262.0|        1.925|           65500.0|\n",
            "|  -114.58|   33.63|              29.0|     1387.0|         236.0|     671.0|     239.0|       3.3438|           74000.0|\n",
            "|  -114.58|   33.61|              25.0|     2907.0|         680.0|    1841.0|     633.0|       2.6768|           82400.0|\n",
            "|  -114.59|   34.83|              41.0|      812.0|         168.0|     375.0|     158.0|       1.7083|           48500.0|\n",
            "|  -114.59|   33.61|              34.0|     4789.0|        1175.0|    3134.0|    1056.0|       2.1782|           58400.0|\n",
            "|   -114.6|   34.83|              46.0|     1497.0|         309.0|     787.0|     271.0|       2.1908|           48100.0|\n",
            "|   -114.6|   33.62|              16.0|     3741.0|         801.0|    2434.0|     824.0|       2.6797|           86500.0|\n",
            "|   -114.6|    33.6|              21.0|     1988.0|         483.0|    1182.0|     437.0|        1.625|           62000.0|\n",
            "|  -114.61|   34.84|              48.0|     1291.0|         248.0|     580.0|     211.0|       2.1571|           48600.0|\n",
            "|  -114.61|   34.83|              31.0|     2478.0|         464.0|    1346.0|     479.0|        3.212|           70400.0|\n",
            "|  -114.63|   32.76|              15.0|     1448.0|         378.0|     949.0|     300.0|       0.8585|           45000.0|\n",
            "|  -114.65|   34.89|              17.0|     2556.0|         587.0|    1005.0|     401.0|       1.6991|           69100.0|\n",
            "|  -114.65|    33.6|              28.0|     1678.0|         322.0|     666.0|     256.0|       2.9653|           94900.0|\n",
            "|  -114.65|   32.79|              21.0|       44.0|          33.0|      64.0|      27.0|       0.8571|           25000.0|\n",
            "|  -114.66|   32.74|              17.0|     1388.0|         386.0|     775.0|     320.0|       1.2049|           44000.0|\n",
            "|  -114.67|   33.92|              17.0|       97.0|          24.0|      29.0|      15.0|       1.2656|           27500.0|\n",
            "+---------+--------+------------------+-----------+--------------+----------+----------+-------------+------------------+\n",
            "only showing top 20 rows\n",
            "\n"
          ]
        }
      ]
    },
    {
      "cell_type": "code",
      "source": [
        "data_set.printSchema()"
      ],
      "metadata": {
        "colab": {
          "base_uri": "https://localhost:8080/"
        },
        "id": "5UfBbEBiLmGy",
        "outputId": "eae63053-e71e-4b23-e56b-11ac91bbaca8"
      },
      "execution_count": 43,
      "outputs": [
        {
          "output_type": "stream",
          "name": "stdout",
          "text": [
            "root\n",
            " |-- longitude: double (nullable = true)\n",
            " |-- latitude: double (nullable = true)\n",
            " |-- housing_median_age: double (nullable = true)\n",
            " |-- total_rooms: double (nullable = true)\n",
            " |-- total_bedrooms: double (nullable = true)\n",
            " |-- population: double (nullable = true)\n",
            " |-- households: double (nullable = true)\n",
            " |-- median_income: double (nullable = true)\n",
            " |-- median_house_value: double (nullable = true)\n",
            "\n"
          ]
        }
      ]
    },
    {
      "cell_type": "code",
      "source": [
        "data_set.columns[:-1]"
      ],
      "metadata": {
        "colab": {
          "base_uri": "https://localhost:8080/"
        },
        "id": "mDbuuXYaLrYA",
        "outputId": "82eeaf82-f6dd-4af1-d15f-8747608a222c"
      },
      "execution_count": 44,
      "outputs": [
        {
          "output_type": "execute_result",
          "data": {
            "text/plain": [
              "['longitude',\n",
              " 'latitude',\n",
              " 'housing_median_age',\n",
              " 'total_rooms',\n",
              " 'total_bedrooms',\n",
              " 'population',\n",
              " 'households',\n",
              " 'median_income']"
            ]
          },
          "metadata": {},
          "execution_count": 44
        }
      ]
    },
    {
      "cell_type": "markdown",
      "source": [
        "- In case of categorical features"
      ],
      "metadata": {
        "id": "g-4ne2QMl_N4"
      }
    },
    {
      "cell_type": "code",
      "source": [
        "# from pyspark.ml.feature import StringIndexer\n",
        "# indexer = StringIndexer(inputCols=['colA','colB'] , outputCols=['indexed_colA', 'indexed_ColB'])\n",
        "# data_r = indexer.fit(data_set).transform(data_set)\n"
      ],
      "metadata": {
        "id": "-eM7ZEm7mKKh"
      },
      "execution_count": null,
      "outputs": []
    },
    {
      "cell_type": "code",
      "source": [
        "from pyspark.ml.feature import VectorAssembler\n",
        "featureAssembler = VectorAssembler(inputCols=data_set.columns[:-1] , outputCol='Independent_features')"
      ],
      "metadata": {
        "id": "M1fCcVFcLwRv"
      },
      "execution_count": 31,
      "outputs": []
    },
    {
      "cell_type": "code",
      "source": [
        "independent_data = featureAssembler.transform(data_set)"
      ],
      "metadata": {
        "id": "sug0lEu3MHrx"
      },
      "execution_count": 32,
      "outputs": []
    },
    {
      "cell_type": "code",
      "source": [
        "independent_data.show()"
      ],
      "metadata": {
        "colab": {
          "base_uri": "https://localhost:8080/"
        },
        "id": "bNn2MuvvMShz",
        "outputId": "69c1ff80-aa89-4d7b-a9c8-103a40785406"
      },
      "execution_count": 33,
      "outputs": [
        {
          "output_type": "stream",
          "name": "stdout",
          "text": [
            "+---------+--------+------------------+-----------+--------------+----------+----------+-------------+------------------+--------------------+\n",
            "|longitude|latitude|housing_median_age|total_rooms|total_bedrooms|population|households|median_income|median_house_value|Independent_features|\n",
            "+---------+--------+------------------+-----------+--------------+----------+----------+-------------+------------------+--------------------+\n",
            "|  -114.31|   34.19|              15.0|     5612.0|        1283.0|    1015.0|     472.0|       1.4936|           66900.0|[-114.31,34.19,15...|\n",
            "|  -114.47|    34.4|              19.0|     7650.0|        1901.0|    1129.0|     463.0|         1.82|           80100.0|[-114.47,34.4,19....|\n",
            "|  -114.56|   33.69|              17.0|      720.0|         174.0|     333.0|     117.0|       1.6509|           85700.0|[-114.56,33.69,17...|\n",
            "|  -114.57|   33.64|              14.0|     1501.0|         337.0|     515.0|     226.0|       3.1917|           73400.0|[-114.57,33.64,14...|\n",
            "|  -114.57|   33.57|              20.0|     1454.0|         326.0|     624.0|     262.0|        1.925|           65500.0|[-114.57,33.57,20...|\n",
            "|  -114.58|   33.63|              29.0|     1387.0|         236.0|     671.0|     239.0|       3.3438|           74000.0|[-114.58,33.63,29...|\n",
            "|  -114.58|   33.61|              25.0|     2907.0|         680.0|    1841.0|     633.0|       2.6768|           82400.0|[-114.58,33.61,25...|\n",
            "|  -114.59|   34.83|              41.0|      812.0|         168.0|     375.0|     158.0|       1.7083|           48500.0|[-114.59,34.83,41...|\n",
            "|  -114.59|   33.61|              34.0|     4789.0|        1175.0|    3134.0|    1056.0|       2.1782|           58400.0|[-114.59,33.61,34...|\n",
            "|   -114.6|   34.83|              46.0|     1497.0|         309.0|     787.0|     271.0|       2.1908|           48100.0|[-114.6,34.83,46....|\n",
            "|   -114.6|   33.62|              16.0|     3741.0|         801.0|    2434.0|     824.0|       2.6797|           86500.0|[-114.6,33.62,16....|\n",
            "|   -114.6|    33.6|              21.0|     1988.0|         483.0|    1182.0|     437.0|        1.625|           62000.0|[-114.6,33.6,21.0...|\n",
            "|  -114.61|   34.84|              48.0|     1291.0|         248.0|     580.0|     211.0|       2.1571|           48600.0|[-114.61,34.84,48...|\n",
            "|  -114.61|   34.83|              31.0|     2478.0|         464.0|    1346.0|     479.0|        3.212|           70400.0|[-114.61,34.83,31...|\n",
            "|  -114.63|   32.76|              15.0|     1448.0|         378.0|     949.0|     300.0|       0.8585|           45000.0|[-114.63,32.76,15...|\n",
            "|  -114.65|   34.89|              17.0|     2556.0|         587.0|    1005.0|     401.0|       1.6991|           69100.0|[-114.65,34.89,17...|\n",
            "|  -114.65|    33.6|              28.0|     1678.0|         322.0|     666.0|     256.0|       2.9653|           94900.0|[-114.65,33.6,28....|\n",
            "|  -114.65|   32.79|              21.0|       44.0|          33.0|      64.0|      27.0|       0.8571|           25000.0|[-114.65,32.79,21...|\n",
            "|  -114.66|   32.74|              17.0|     1388.0|         386.0|     775.0|     320.0|       1.2049|           44000.0|[-114.66,32.74,17...|\n",
            "|  -114.67|   33.92|              17.0|       97.0|          24.0|      29.0|      15.0|       1.2656|           27500.0|[-114.67,33.92,17...|\n",
            "+---------+--------+------------------+-----------+--------------+----------+----------+-------------+------------------+--------------------+\n",
            "only showing top 20 rows\n",
            "\n"
          ]
        }
      ]
    },
    {
      "cell_type": "code",
      "source": [
        "independent_data = independent_data.select('Independent_features','median_house_value')"
      ],
      "metadata": {
        "id": "KRkdzY5WMUcU"
      },
      "execution_count": 34,
      "outputs": []
    },
    {
      "cell_type": "code",
      "source": [
        "independent_data.show()"
      ],
      "metadata": {
        "colab": {
          "base_uri": "https://localhost:8080/"
        },
        "id": "LpO-0kZtMlus",
        "outputId": "0cc08560-8af7-45ab-af6e-c47ab5dd0401"
      },
      "execution_count": 35,
      "outputs": [
        {
          "output_type": "stream",
          "name": "stdout",
          "text": [
            "+--------------------+------------------+\n",
            "|Independent_features|median_house_value|\n",
            "+--------------------+------------------+\n",
            "|[-114.31,34.19,15...|           66900.0|\n",
            "|[-114.47,34.4,19....|           80100.0|\n",
            "|[-114.56,33.69,17...|           85700.0|\n",
            "|[-114.57,33.64,14...|           73400.0|\n",
            "|[-114.57,33.57,20...|           65500.0|\n",
            "|[-114.58,33.63,29...|           74000.0|\n",
            "|[-114.58,33.61,25...|           82400.0|\n",
            "|[-114.59,34.83,41...|           48500.0|\n",
            "|[-114.59,33.61,34...|           58400.0|\n",
            "|[-114.6,34.83,46....|           48100.0|\n",
            "|[-114.6,33.62,16....|           86500.0|\n",
            "|[-114.6,33.6,21.0...|           62000.0|\n",
            "|[-114.61,34.84,48...|           48600.0|\n",
            "|[-114.61,34.83,31...|           70400.0|\n",
            "|[-114.63,32.76,15...|           45000.0|\n",
            "|[-114.65,34.89,17...|           69100.0|\n",
            "|[-114.65,33.6,28....|           94900.0|\n",
            "|[-114.65,32.79,21...|           25000.0|\n",
            "|[-114.66,32.74,17...|           44000.0|\n",
            "|[-114.67,33.92,17...|           27500.0|\n",
            "+--------------------+------------------+\n",
            "only showing top 20 rows\n",
            "\n"
          ]
        }
      ]
    },
    {
      "cell_type": "code",
      "source": [
        "from pyspark.ml.regression import LinearRegression\n",
        "train_data , test_data = independent_data.randomSplit([0.75,0.25])\n",
        "regressor = LinearRegression(featuresCol='Independent_features' , labelCol='median_house_value')\n",
        "regressor = regressor.fit(train_data)"
      ],
      "metadata": {
        "id": "EeuqbtQHMnTp"
      },
      "execution_count": 36,
      "outputs": []
    },
    {
      "cell_type": "code",
      "source": [
        "regressor.coefficients , regressor.intercept"
      ],
      "metadata": {
        "colab": {
          "base_uri": "https://localhost:8080/"
        },
        "id": "NWevXFi1NOsk",
        "outputId": "dd99ea75-6f79-4c96-a5de-bbcbed7036e5"
      },
      "execution_count": 37,
      "outputs": [
        {
          "output_type": "execute_result",
          "data": {
            "text/plain": [
              "(DenseVector([-43677.1782, -43343.3552, 1171.0878, -8.2724, 116.0448, -37.3726, 44.8199, 40713.9099]),\n",
              " -3672056.8223217316)"
            ]
          },
          "metadata": {},
          "execution_count": 37
        }
      ]
    },
    {
      "cell_type": "code",
      "source": [
        "pred_result = regressor.evaluate(test_data)"
      ],
      "metadata": {
        "id": "RcFeVmCvNTd4"
      },
      "execution_count": 38,
      "outputs": []
    },
    {
      "cell_type": "code",
      "source": [
        "pred_result.predictions.show()"
      ],
      "metadata": {
        "colab": {
          "base_uri": "https://localhost:8080/"
        },
        "id": "jsWjIZVoNgTa",
        "outputId": "bcd5eb98-e915-456f-e132-2a992fcca209"
      },
      "execution_count": 39,
      "outputs": [
        {
          "output_type": "stream",
          "name": "stdout",
          "text": [
            "+--------------------+------------------+------------------+\n",
            "|Independent_features|median_house_value|        prediction|\n",
            "+--------------------+------------------+------------------+\n",
            "|[-124.23,40.54,52...|          106700.0|189865.11714195507|\n",
            "|[-124.22,41.73,28...|           78300.0| 75323.47169347666|\n",
            "|[-124.21,40.75,32...|           58100.0|108786.28878011648|\n",
            "|[-124.21,41.77,17...|           68400.0| 78951.13723550178|\n",
            "|[-124.19,40.73,21...|           90100.0|165769.56700281706|\n",
            "|[-124.19,40.77,30...|           69000.0|143663.02351800958|\n",
            "|[-124.18,40.78,33...|           72200.0|127976.57732933993|\n",
            "|[-124.18,40.78,34...|           67000.0|119795.25160470838|\n",
            "|[-124.18,40.78,37...|           70200.0|135003.87801110698|\n",
            "|[-124.17,40.75,13...|          116100.0|199508.30910658138|\n",
            "|[-124.17,40.79,43...|           70500.0|128474.90209632367|\n",
            "|[-124.17,41.76,20...|          105900.0| 80363.94600200374|\n",
            "|[-124.16,40.78,46...|           81800.0| 201836.4313291097|\n",
            "|[-124.16,40.8,52....|           80500.0|148200.17693932122|\n",
            "|[-124.15,40.76,24...|          100600.0| 156036.2371562724|\n",
            "|[-124.15,40.78,36...|           90000.0|174885.43161778525|\n",
            "|[-124.15,40.88,33...|           57500.0|103922.23324597022|\n",
            "|[-124.15,41.81,17...|          103100.0|-9235.711768845562|\n",
            "|[-124.14,40.67,23...|          130600.0| 187112.5089783878|\n",
            "|[-124.14,41.95,21...|          122400.0| 70757.75831350451|\n",
            "+--------------------+------------------+------------------+\n",
            "only showing top 20 rows\n",
            "\n"
          ]
        }
      ]
    },
    {
      "cell_type": "code",
      "source": [
        "pred_result.meanSquaredError"
      ],
      "metadata": {
        "colab": {
          "base_uri": "https://localhost:8080/"
        },
        "id": "fnjDehBqNmQU",
        "outputId": "ea28f265-89b3-4923-9314-041115895f9b"
      },
      "execution_count": 40,
      "outputs": [
        {
          "output_type": "execute_result",
          "data": {
            "text/plain": [
              "4871950908.697149"
            ]
          },
          "metadata": {},
          "execution_count": 40
        }
      ]
    },
    {
      "cell_type": "code",
      "source": [],
      "metadata": {
        "id": "N6OMS9gnNrwC"
      },
      "execution_count": null,
      "outputs": []
    }
  ]
}